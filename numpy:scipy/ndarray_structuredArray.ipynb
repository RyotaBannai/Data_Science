{
 "cells": [
  {
   "cell_type": "code",
   "execution_count": 1,
   "metadata": {},
   "outputs": [],
   "source": [
    "from numpy import *"
   ]
  },
  {
   "cell_type": "markdown",
   "metadata": {},
   "source": [
    "Recarrays and structured arrays"
   ]
  },
  {
   "cell_type": "code",
   "execution_count": 9,
   "metadata": {},
   "outputs": [],
   "source": [
    "r=ones(3, dtype=dtype([('foo', int), ('bar', float)]))"
   ]
  },
  {
   "cell_type": "code",
   "execution_count": 14,
   "metadata": {},
   "outputs": [
    {
     "data": {
      "text/plain": [
       "array([1, 1, 1])"
      ]
     },
     "execution_count": 14,
     "metadata": {},
     "output_type": "execute_result"
    }
   ],
   "source": [
    "r['foo']"
   ]
  },
  {
   "cell_type": "code",
   "execution_count": 11,
   "metadata": {},
   "outputs": [],
   "source": [
    "r2 = r.view(recarray)"
   ]
  },
  {
   "cell_type": "code",
   "execution_count": 12,
   "metadata": {},
   "outputs": [
    {
     "data": {
      "text/plain": [
       "rec.array([(1, 1.), (1, 1.), (1, 1.)],\n",
       "          dtype=[('foo', '<i8'), ('bar', '<f8')])"
      ]
     },
     "execution_count": 12,
     "metadata": {},
     "output_type": "execute_result"
    }
   ],
   "source": [
    "r2"
   ]
  },
  {
   "cell_type": "code",
   "execution_count": 15,
   "metadata": {},
   "outputs": [
    {
     "data": {
      "text/plain": [
       "array([1, 1, 1])"
      ]
     },
     "execution_count": 15,
     "metadata": {},
     "output_type": "execute_result"
    }
   ],
   "source": [
    "r2.foo"
   ]
  },
  {
   "cell_type": "code",
   "execution_count": 43,
   "metadata": {},
   "outputs": [
    {
     "name": "stdout",
     "output_type": "stream",
     "text": [
      "1 , 1.0\n",
      "1 , 1.0\n",
      "1 , 1.0\n"
     ]
    }
   ],
   "source": [
    "for item1,item2 in r2:\n",
    "    print(item1,',', item2)"
   ]
  },
  {
   "cell_type": "code",
   "execution_count": 22,
   "metadata": {},
   "outputs": [],
   "source": [
    "data = [ (1, 2), (3, 4.1), (13, 77) ]\n",
    "dtype = [('x', float), ('y', float)]"
   ]
  },
  {
   "cell_type": "code",
   "execution_count": 25,
   "metadata": {},
   "outputs": [
    {
     "name": "stdout",
     "output_type": "stream",
     "text": [
      "\n",
      " ndarray\n"
     ]
    },
    {
     "data": {
      "text/plain": [
       "array([[ 1. ,  2. ],\n",
       "       [ 3. ,  4.1],\n",
       "       [13. , 77. ]])"
      ]
     },
     "execution_count": 25,
     "metadata": {},
     "output_type": "execute_result"
    }
   ],
   "source": [
    "print('\\n ndarray')\n",
    "nd = np.array(data);nd"
   ]
  },
  {
   "cell_type": "code",
   "execution_count": 28,
   "metadata": {},
   "outputs": [
    {
     "name": "stdout",
     "output_type": "stream",
     "text": [
      "\n",
      " structured array\n",
      "[ 1.  3. 13.]\n"
     ]
    }
   ],
   "source": [
    "print ('\\n structured array')\n",
    "struct_1dtype = np.array(data, dtype=dtype)\n",
    "print (struct_1dtype['x'])"
   ]
  },
  {
   "cell_type": "code",
   "execution_count": 31,
   "metadata": {},
   "outputs": [
    {
     "name": "stdout",
     "output_type": "stream",
     "text": [
      "\n",
      " structured to ndarray\n",
      "[[( 1.,  2. )]\n",
      " [( 3.,  4.1)]\n",
      " [(13., 77. )]]\n"
     ]
    }
   ],
   "source": [
    "print('\\n structured to ndarray')\n",
    "struct_1dtype_float = struct_1dtype.view(np.ndarray).reshape(len(struct_1dtype), -1)\n",
    "print (struct_1dtype_float)"
   ]
  },
  {
   "cell_type": "code",
   "execution_count": 42,
   "metadata": {},
   "outputs": [
    {
     "name": "stdout",
     "output_type": "stream",
     "text": [
      "\n",
      " structured to float: alternative ways\n",
      "[[ 1.   2. ]\n",
      " [ 3.   4.1]\n",
      " [13.  77. ]]\n"
     ]
    }
   ],
   "source": [
    "print('\\n structured to float: alternative ways - only for case of dtype, but not for structure modification')\n",
    "struct_1dtype_float_alt = struct_1dtype.view((np.float, len(struct_1dtype.dtype.names)))\n",
    "# len(struct_1dtype.dtype.names) is  2\n",
    "print (struct_1dtype_float_alt)"
   ]
  },
  {
   "cell_type": "code",
   "execution_count": 52,
   "metadata": {},
   "outputs": [
    {
     "name": "stdout",
     "output_type": "stream",
     "text": [
      "\n",
      " structured array with different dtypes\n",
      "[(1., b'string1', 2. ) (3., b'string2', 4.1)] \n",
      "\n",
      "[[(b'string1', 1., 2. )]\n",
      " [(b'string2', 3., 4.1)]]\n"
     ]
    }
   ],
   "source": [
    "# with heterogeneous dtype.\n",
    "struct_diffdtype = np.array([(1.0, 'string1', 2.0), (3.0, 'string2', 4.1)],\n",
    "dtype=[('x', float),('str_var', 'a7'),('y',float)])\n",
    "print('\\n structured array with different dtypes')\n",
    "print (struct_diffdtype,'\\n')\n",
    "struct_diffdtype_nd = struct_diffdtype[['str_var', 'x', 'y']].view(np.ndarray).reshape(len(struct_diffdtype), -1)\n",
    "print(struct_diffdtype_nd)"
   ]
  },
  {
   "cell_type": "code",
   "execution_count": 53,
   "metadata": {},
   "outputs": [
    {
     "name": "stdout",
     "output_type": "stream",
     "text": [
      "\n",
      " structured array with different dtypes to reshaped float array ommiting string columns\n",
      "[[1.  2. ]\n",
      " [3.  4.1]]\n"
     ]
    },
    {
     "name": "stderr",
     "output_type": "stream",
     "text": [
      "//anaconda/lib/python3.5/site-packages/ipykernel_launcher.py:2: FutureWarning: Numpy has detected that you may be viewing or writing to an array returned by selecting multiple fields in a structured array. \n",
      "\n",
      "This code may break in numpy 1.16 because this will return a view instead of a copy -- see release notes for details.\n",
      "  \n"
     ]
    }
   ],
   "source": [
    "print('\\n structured array with different dtypes to reshaped float array ommiting string columns')\n",
    "struct_diffdtype_float = struct_diffdtype[['x', 'y']].view(float).reshape(len(struct_diffdtype),-1)\n",
    "print (struct_diffdtype_float)"
   ]
  },
  {
   "cell_type": "markdown",
   "metadata": {},
   "source": [
    "Slicing"
   ]
  },
  {
   "cell_type": "code",
   "execution_count": 55,
   "metadata": {},
   "outputs": [],
   "source": [
    "data = array([0.5, 1.2, 2.2, 3.4, 3.5, 3.4, 3.4, 3.4], float)"
   ]
  },
  {
   "cell_type": "code",
   "execution_count": 56,
   "metadata": {},
   "outputs": [
    {
     "data": {
      "text/plain": [
       "array([2.2, 3.4])"
      ]
     },
     "execution_count": 56,
     "metadata": {},
     "output_type": "execute_result"
    }
   ],
   "source": [
    "data[slice(2,4)]"
   ]
  },
  {
   "cell_type": "markdown",
   "metadata": {},
   "source": [
    "Slicing with bool array "
   ]
  },
  {
   "cell_type": "code",
   "execution_count": 58,
   "metadata": {},
   "outputs": [
    {
     "data": {
      "text/plain": [
       "array([0.5, 1.2])"
      ]
     },
     "execution_count": 58,
     "metadata": {},
     "output_type": "execute_result"
    }
   ],
   "source": [
    "# create an bool-array for indexing\n",
    "i = array(len(data)*[False], bool)\n",
    "i[slice(0,2)]=True\n",
    "data[i]"
   ]
  },
  {
   "cell_type": "code",
   "execution_count": null,
   "metadata": {},
   "outputs": [],
   "source": []
  }
 ],
 "metadata": {
  "kernelspec": {
   "display_name": "Python 3",
   "language": "python",
   "name": "python3"
  },
  "language_info": {
   "codemirror_mode": {
    "name": "ipython",
    "version": 3
   },
   "file_extension": ".py",
   "mimetype": "text/x-python",
   "name": "python",
   "nbconvert_exporter": "python",
   "pygments_lexer": "ipython3",
   "version": "3.5.6"
  }
 },
 "nbformat": 4,
 "nbformat_minor": 2
}
