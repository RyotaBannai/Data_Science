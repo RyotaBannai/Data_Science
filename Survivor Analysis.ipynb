{
 "cells": [
  {
   "cell_type": "code",
   "execution_count": 10,
   "metadata": {
    "collapsed": true
   },
   "outputs": [],
   "source": [
    "import pandas as pd\n",
    "import numpy as np\n",
    "from lifelines.datasets import load_waltons"
   ]
  },
  {
   "cell_type": "code",
   "execution_count": 32,
   "metadata": {},
   "outputs": [
    {
     "data": {
      "text/html": [
       "<div>\n",
       "<style scoped>\n",
       "    .dataframe tbody tr th:only-of-type {\n",
       "        vertical-align: middle;\n",
       "    }\n",
       "\n",
       "    .dataframe tbody tr th {\n",
       "        vertical-align: top;\n",
       "    }\n",
       "\n",
       "    .dataframe thead th {\n",
       "        text-align: right;\n",
       "    }\n",
       "</style>\n",
       "<table border=\"1\" class=\"dataframe\">\n",
       "  <thead>\n",
       "    <tr style=\"text-align: right;\">\n",
       "      <th></th>\n",
       "      <th>T</th>\n",
       "      <th>E</th>\n",
       "      <th>group</th>\n",
       "    </tr>\n",
       "  </thead>\n",
       "  <tbody>\n",
       "    <tr>\n",
       "      <th>0</th>\n",
       "      <td>6.0</td>\n",
       "      <td>1</td>\n",
       "      <td>miR-137</td>\n",
       "    </tr>\n",
       "    <tr>\n",
       "      <th>1</th>\n",
       "      <td>13.0</td>\n",
       "      <td>1</td>\n",
       "      <td>miR-137</td>\n",
       "    </tr>\n",
       "  </tbody>\n",
       "</table>\n",
       "</div>"
      ],
      "text/plain": [
       "      T  E    group\n",
       "0   6.0  1  miR-137\n",
       "1  13.0  1  miR-137"
      ]
     },
     "execution_count": 32,
     "metadata": {},
     "output_type": "execute_result"
    }
   ],
   "source": [
    "df = load_waltons();df.head(2)"
   ]
  },
  {
   "cell_type": "code",
   "execution_count": 12,
   "metadata": {},
   "outputs": [],
   "source": [
    "T = df['T'] #duration\n",
    "E = df['E'] #death 1 or censored 0"
   ]
  },
  {
   "cell_type": "code",
   "execution_count": 13,
   "metadata": {},
   "outputs": [
    {
     "data": {
      "text/plain": [
       "<lifelines.KaplanMeierFitter: fitted with 163 observations, 7 censored>"
      ]
     },
     "execution_count": 13,
     "metadata": {},
     "output_type": "execute_result"
    }
   ],
   "source": [
    "from lifelines import KaplanMeierFitter\n",
    "kmf = KaplanMeierFitter()\n",
    "kmf.fit(T, event_observed=E)"
   ]
  },
  {
   "cell_type": "code",
   "execution_count": 14,
   "metadata": {},
   "outputs": [
    {
     "data": {
      "text/plain": [
       "<matplotlib.axes._subplots.AxesSubplot at 0x1a1c40ba58>"
      ]
     },
     "execution_count": 14,
     "metadata": {},
     "output_type": "execute_result"
    },
    {
     "data": {
      "image/png": "[encoded data removed]",
      "text/plain": [
       "<Figure size 432x288 with 1 Axes>"
      ]
     },
     "metadata": {
      "needs_background": "light"
     },
     "output_type": "display_data"
    }
   ],
   "source": [
    "#kmf.survival_function_\n",
    "#kmf.median_\n",
    "kmf.plot()"
   ]
  },
  {
   "cell_type": "code",
   "execution_count": 18,
   "metadata": {},
   "outputs": [
    {
     "data": {
      "text/plain": [
       "<matplotlib.axes._subplots.AxesSubplot at 0x1a1c45edd8>"
      ]
     },
     "execution_count": 18,
     "metadata": {},
     "output_type": "execute_result"
    },
    {
     "data": {
      "image/png": "[encoded data removed]",
      "text/plain": [
       "<Figure size 432x288 with 1 Axes>"
      ]
     },
     "metadata": {
      "needs_background": "light"
     },
     "output_type": "display_data"
    }
   ],
   "source": [
    "groups = df['group']\n",
    "ix = (groups == 'miR-137')\n",
    "\n",
    "kmf.fit(T[~ix], E[~ix], label='control')\n",
    "ax = kmf.plot()\n",
    "\n",
    "kmf.fit(T[ix], E[ix], label='miR-137')\n",
    "kmf.plot(ax=ax)"
   ]
  },
  {
   "cell_type": "code",
   "execution_count": 20,
   "metadata": {},
   "outputs": [
    {
     "data": {
      "text/plain": [
       "<matplotlib.axes._subplots.AxesSubplot at 0x1a1c4697b8>"
      ]
     },
     "execution_count": 20,
     "metadata": {},
     "output_type": "execute_result"
    },
    {
     "data": {
      "image/png": "[encoded data removed]",
      "text/plain": [
       "<Figure size 432x288 with 1 Axes>"
      ]
     },
     "metadata": {
      "needs_background": "light"
     },
     "output_type": "display_data"
    }
   ],
   "source": [
    "from lifelines import NelsonAalenFitter\n",
    "naf = NelsonAalenFitter()\n",
    "naf.fit(T, event_observed=E)\n",
    "naf.plot()"
   ]
  },
  {
   "cell_type": "markdown",
   "metadata": {},
   "source": [
    "Cumulative Hazard"
   ]
  },
  {
   "cell_type": "code",
   "execution_count": 35,
   "metadata": {},
   "outputs": [
    {
     "name": "stdout",
     "output_type": "stream",
     "text": [
      "T (durations):  [ 3.  1.  5.]\n",
      "E (event_observed):  [ True  True False]\n"
     ]
    }
   ],
   "source": [
    "# transform data formats to lifelines format\n",
    "from lifelines.utils import datetimes_to_durations\n",
    "start_date = ['2013-10-10 0:00:00', '2013-10-09', '2013-10-10']\n",
    "end_date = ['2013-10-13', '2013-10-10', None]\n",
    "T, E = datetimes_to_durations(start_date, end_date, fill_date='2013-10-15')\n",
    "print('T (durations): ', T)\n",
    "print('E (event_observed): ', E)"
   ]
  },
  {
   "cell_type": "markdown",
   "metadata": {},
   "source": [
    "https://lifelines.readthedocs.io/en/latest/Survival%20analysis%20with%20lifelines.html"
   ]
  },
  {
   "cell_type": "code",
   "execution_count": 43,
   "metadata": {},
   "outputs": [
    {
     "data": {
      "text/html": [
       "<div>\n",
       "<style scoped>\n",
       "    .dataframe tbody tr th:only-of-type {\n",
       "        vertical-align: middle;\n",
       "    }\n",
       "\n",
       "    .dataframe tbody tr th {\n",
       "        vertical-align: top;\n",
       "    }\n",
       "\n",
       "    .dataframe thead th {\n",
       "        text-align: right;\n",
       "    }\n",
       "</style>\n",
       "<table border=\"1\" class=\"dataframe\">\n",
       "  <thead>\n",
       "    <tr style=\"text-align: right;\">\n",
       "      <th></th>\n",
       "      <th>var1</th>\n",
       "      <th>var2</th>\n",
       "      <th>var3</th>\n",
       "      <th>T</th>\n",
       "      <th>E</th>\n",
       "    </tr>\n",
       "  </thead>\n",
       "  <tbody>\n",
       "    <tr>\n",
       "      <th>0</th>\n",
       "      <td>0.595170</td>\n",
       "      <td>1.143472</td>\n",
       "      <td>1.571079</td>\n",
       "      <td>14.785479</td>\n",
       "      <td>1</td>\n",
       "    </tr>\n",
       "    <tr>\n",
       "      <th>1</th>\n",
       "      <td>0.209325</td>\n",
       "      <td>0.184677</td>\n",
       "      <td>0.356980</td>\n",
       "      <td>7.336734</td>\n",
       "      <td>1</td>\n",
       "    </tr>\n",
       "    <tr>\n",
       "      <th>2</th>\n",
       "      <td>0.693919</td>\n",
       "      <td>0.071893</td>\n",
       "      <td>0.557960</td>\n",
       "      <td>5.271527</td>\n",
       "      <td>1</td>\n",
       "    </tr>\n",
       "    <tr>\n",
       "      <th>3</th>\n",
       "      <td>0.443804</td>\n",
       "      <td>1.364646</td>\n",
       "      <td>0.374221</td>\n",
       "      <td>11.684168</td>\n",
       "      <td>1</td>\n",
       "    </tr>\n",
       "    <tr>\n",
       "      <th>4</th>\n",
       "      <td>1.613324</td>\n",
       "      <td>0.125566</td>\n",
       "      <td>1.921325</td>\n",
       "      <td>7.637764</td>\n",
       "      <td>1</td>\n",
       "    </tr>\n",
       "  </tbody>\n",
       "</table>\n",
       "</div>"
      ],
      "text/plain": [
       "       var1      var2      var3          T  E\n",
       "0  0.595170  1.143472  1.571079  14.785479  1\n",
       "1  0.209325  0.184677  0.356980   7.336734  1\n",
       "2  0.693919  0.071893  0.557960   5.271527  1\n",
       "3  0.443804  1.364646  0.374221  11.684168  1\n",
       "4  1.613324  0.125566  1.921325   7.637764  1"
      ]
     },
     "execution_count": 43,
     "metadata": {},
     "output_type": "execute_result"
    }
   ],
   "source": [
    "from lifelines.datasets import load_regression_dataset\n",
    "regression_dataset = load_regression_dataset()\n",
    "regression_dataset.head()"
   ]
  },
  {
   "cell_type": "code",
   "execution_count": 45,
   "metadata": {},
   "outputs": [
    {
     "data": {
      "text/plain": [
       "<matplotlib.axes._subplots.AxesSubplot at 0x1a1d158390>"
      ]
     },
     "execution_count": 45,
     "metadata": {},
     "output_type": "execute_result"
    },
    {
     "data": {
      "image/png": "[encoded data removed]",
      "text/plain": [
       "<Figure size 432x288 with 1 Axes>"
      ]
     },
     "metadata": {
      "needs_background": "light"
     },
     "output_type": "display_data"
    }
   ],
   "source": [
    "from lifelines import CoxPHFitter\n",
    "# Using Cox Proportional Hazards model\n",
    "cph = CoxPHFitter()\n",
    "cph.fit(regression_dataset, 'T', event_col='E')\n",
    "#cph.print_summary()\n",
    "cph.plot()"
   ]
  },
  {
   "cell_type": "code",
   "execution_count": 59,
   "metadata": {},
   "outputs": [
    {
     "data": {
      "text/plain": [
       "<matplotlib.axes._subplots.AxesSubplot at 0x1a1d36b400>"
      ]
     },
     "execution_count": 59,
     "metadata": {},
     "output_type": "execute_result"
    },
    {
     "data": {
      "image/png": "[encoded data removed]",
      "text/plain": [
       "<Figure size 432x288 with 1 Axes>"
      ]
     },
     "metadata": {
      "needs_background": "light"
     },
     "output_type": "display_data"
    }
   ],
   "source": [
    "# Using Aalen's Additive model\n",
    "from lifelines import AalenAdditiveFitter\n",
    "aaf = AalenAdditiveFitter(fit_intercept=False)\n",
    "aaf.fit(regression_dataset, 'T', event_col='E')\n",
    "X = regression_dataset.drop(['E', 'T'], axis=1)\n",
    "aaf.predict_survival_function(X.iloc[10:13]).plot()  # get the unique survival functions of two subjects"
   ]
  },
  {
   "cell_type": "code",
   "execution_count": 57,
   "metadata": {},
   "outputs": [
    {
     "data": {
      "text/plain": [
       "<matplotlib.axes._subplots.AxesSubplot at 0x1a1d61c3c8>"
      ]
     },
     "execution_count": 57,
     "metadata": {},
     "output_type": "execute_result"
    },
    {
     "data": {
      "image/png": "[encoded data removed]",
      "text/plain": [
       "<Figure size 432x288 with 1 Axes>"
      ]
     },
     "metadata": {
      "needs_background": "light"
     },
     "output_type": "display_data"
    }
   ],
   "source": [
    "aaf.plot()"
   ]
  },
  {
   "cell_type": "code",
   "execution_count": 47,
   "metadata": {},
   "outputs": [
    {
     "data": {
      "text/html": [
       "<div>\n",
       "<style scoped>\n",
       "    .dataframe tbody tr th:only-of-type {\n",
       "        vertical-align: middle;\n",
       "    }\n",
       "\n",
       "    .dataframe tbody tr th {\n",
       "        vertical-align: top;\n",
       "    }\n",
       "\n",
       "    .dataframe thead th {\n",
       "        text-align: right;\n",
       "    }\n",
       "</style>\n",
       "<table border=\"1\" class=\"dataframe\">\n",
       "  <thead>\n",
       "    <tr style=\"text-align: right;\">\n",
       "      <th></th>\n",
       "      <th>var1</th>\n",
       "      <th>var2</th>\n",
       "      <th>var3</th>\n",
       "    </tr>\n",
       "  </thead>\n",
       "  <tbody>\n",
       "    <tr>\n",
       "      <th>10</th>\n",
       "      <td>0.044280</td>\n",
       "      <td>0.305158</td>\n",
       "      <td>0.176480</td>\n",
       "    </tr>\n",
       "    <tr>\n",
       "      <th>11</th>\n",
       "      <td>1.035450</td>\n",
       "      <td>3.304733</td>\n",
       "      <td>0.997323</td>\n",
       "    </tr>\n",
       "    <tr>\n",
       "      <th>12</th>\n",
       "      <td>0.229195</td>\n",
       "      <td>0.581355</td>\n",
       "      <td>0.484794</td>\n",
       "    </tr>\n",
       "  </tbody>\n",
       "</table>\n",
       "</div>"
      ],
      "text/plain": [
       "        var1      var2      var3\n",
       "10  0.044280  0.305158  0.176480\n",
       "11  1.035450  3.304733  0.997323\n",
       "12  0.229195  0.581355  0.484794"
      ]
     },
     "execution_count": 47,
     "metadata": {},
     "output_type": "execute_result"
    }
   ],
   "source": [
    "X.iloc[10:13]"
   ]
  },
  {
   "cell_type": "code",
   "execution_count": 97,
   "metadata": {},
   "outputs": [],
   "source": [
    "from lifelines.plotting import plot_lifetimes\n",
    "from numpy.random import uniform, exponential\n",
    "import matplotlib.pyplot as plt\n",
    "\n",
    "N = 25\n",
    "current_time = 10\n",
    "actual_lifetimes = np.array([[exponential(12), exponential(2)][uniform() < 0.5] for _ in range(N)])\n",
    "observed_lifetimes = np.minimum(actual_lifetimes, current_time)\n",
    "observed = actual_lifetimes < current_time"
   ]
  },
  {
   "cell_type": "code",
   "execution_count": 114,
   "metadata": {},
   "outputs": [
    {
     "data": {
      "image/png": "[encoded data removed]",
      "text/plain": [
       "<Figure size 432x288 with 1 Axes>"
      ]
     },
     "metadata": {
      "needs_background": "light"
     },
     "output_type": "display_data"
    },
    {
     "name": "stdout",
     "output_type": "stream",
     "text": [
      "Observed lifetimes at time 10:\n",
      " [  0.62462899   0.77311723   4.0303714    9.35996553  10.           6.35104201\n",
      "   0.14695762   3.16883198   0.30400945   5.00095015   1.38769837\n",
      "   2.44047241   9.01742485   3.64123975   1.24492363   4.47993257\n",
      "   1.01212656   3.86896395  10.           0.71237963   0.54610007\n",
      "   8.42015147   0.10912428   3.12080991   7.4020532 ]\n"
     ]
    }
   ],
   "source": [
    "plt.xlim(0, 25)\n",
    "plt.vlines(10, 0, 30, lw=2, linestyles='--')\n",
    "plt.xlabel(\"time\")\n",
    "plt.title(\"Births and deaths of our population, at $t=10$\")\n",
    "plot_lifetimes(observed_lifetimes, event_observed=observed)\n",
    "print(\"Observed lifetimes at time %d:\\n\" % (current_time), observed_lifetimes)"
   ]
  },
  {
   "cell_type": "markdown",
   "metadata": {},
   "source": [
    "The red lines denote the lifespan of individuals where the death event has been observed, and the blue lines denote the lifespan of the right-censored individuals (deaths have not been observed)"
   ]
  },
  {
   "cell_type": "code",
   "execution_count": 117,
   "metadata": {},
   "outputs": [
    {
     "data": {
      "image/png": "[encoded data removed]",
      "text/plain": [
       "<Figure size 432x288 with 1 Axes>"
      ]
     },
     "metadata": {
      "needs_background": "light"
     },
     "output_type": "display_data"
    }
   ],
   "source": [
    "plt.xlim(0,25)\n",
    "plt.vlines(10, 0, 30, lw=2, linestyles='--')\n",
    "plot_lifetimes(actual_lifetimes, event_observed=observed)"
   ]
  },
  {
   "cell_type": "code",
   "execution_count": null,
   "metadata": {
    "collapsed": true
   },
   "outputs": [],
   "source": [
    "#Above neglect right-censored individual\n",
    "#Below doesn't "
   ]
  },
  {
   "cell_type": "code",
   "execution_count": 80,
   "metadata": {},
   "outputs": [
    {
     "data": {
      "image/png": "[encoded data removed]",
      "text/plain": [
       "<Figure size 432x288 with 1 Axes>"
      ]
     },
     "metadata": {
      "needs_background": "light"
     },
     "output_type": "display_data"
    }
   ],
   "source": [
    "s = np.random.uniform(-1,0,1000)\n",
    "count, bins, ignored = plt.hist(s, 15, density=True)\n",
    "plt.plot(bins, np.ones_like(bins), linewidth=2, color='r')\n",
    "plt.show()"
   ]
  },
  {
   "cell_type": "code",
   "execution_count": 110,
   "metadata": {},
   "outputs": [],
   "source": [
    "# exponential(2) =\\ np.exp(1)\n",
    "# exponential: Draw samples from an exponential distribution"
   ]
  },
  {
   "cell_type": "code",
   "execution_count": 118,
   "metadata": {
    "collapsed": true
   },
   "outputs": [],
   "source": [
    "from lifelines.datasets import load_dd\n",
    "data = load_dd()"
   ]
  },
  {
   "cell_type": "code",
   "execution_count": 155,
   "metadata": {},
   "outputs": [
    {
     "data": {
      "text/html": [
       "<div>\n",
       "<style scoped>\n",
       "    .dataframe tbody tr th:only-of-type {\n",
       "        vertical-align: middle;\n",
       "    }\n",
       "\n",
       "    .dataframe tbody tr th {\n",
       "        vertical-align: top;\n",
       "    }\n",
       "\n",
       "    .dataframe thead th {\n",
       "        text-align: right;\n",
       "    }\n",
       "</style>\n",
       "<table border=\"1\" class=\"dataframe\">\n",
       "  <thead>\n",
       "    <tr style=\"text-align: right;\">\n",
       "      <th></th>\n",
       "      <th>ctryname</th>\n",
       "      <th>cowcode2</th>\n",
       "      <th>politycode</th>\n",
       "      <th>un_region_name</th>\n",
       "      <th>un_continent_name</th>\n",
       "      <th>ehead</th>\n",
       "      <th>leaderspellreg</th>\n",
       "      <th>democracy</th>\n",
       "      <th>regime</th>\n",
       "      <th>start_year</th>\n",
       "      <th>duration</th>\n",
       "      <th>observed</th>\n",
       "    </tr>\n",
       "  </thead>\n",
       "  <tbody>\n",
       "    <tr>\n",
       "      <th>0</th>\n",
       "      <td>Afghanistan</td>\n",
       "      <td>700</td>\n",
       "      <td>700.0</td>\n",
       "      <td>Southern Asia</td>\n",
       "      <td>Asia</td>\n",
       "      <td>Mohammad Zahir Shah</td>\n",
       "      <td>Mohammad Zahir Shah.Afghanistan.1946.1952.Mona...</td>\n",
       "      <td>Non-democracy</td>\n",
       "      <td>Monarchy</td>\n",
       "      <td>1946</td>\n",
       "      <td>7</td>\n",
       "      <td>1</td>\n",
       "    </tr>\n",
       "    <tr>\n",
       "      <th>1</th>\n",
       "      <td>Afghanistan</td>\n",
       "      <td>700</td>\n",
       "      <td>700.0</td>\n",
       "      <td>Southern Asia</td>\n",
       "      <td>Asia</td>\n",
       "      <td>Sardar Mohammad Daoud</td>\n",
       "      <td>Sardar Mohammad Daoud.Afghanistan.1953.1962.Ci...</td>\n",
       "      <td>Non-democracy</td>\n",
       "      <td>Civilian Dict</td>\n",
       "      <td>1953</td>\n",
       "      <td>10</td>\n",
       "      <td>1</td>\n",
       "    </tr>\n",
       "  </tbody>\n",
       "</table>\n",
       "</div>"
      ],
      "text/plain": [
       "      ctryname  cowcode2  politycode un_region_name un_continent_name  \\\n",
       "0  Afghanistan       700       700.0  Southern Asia              Asia   \n",
       "1  Afghanistan       700       700.0  Southern Asia              Asia   \n",
       "\n",
       "                   ehead                                     leaderspellreg  \\\n",
       "0    Mohammad Zahir Shah  Mohammad Zahir Shah.Afghanistan.1946.1952.Mona...   \n",
       "1  Sardar Mohammad Daoud  Sardar Mohammad Daoud.Afghanistan.1953.1962.Ci...   \n",
       "\n",
       "       democracy         regime  start_year  duration  observed  \n",
       "0  Non-democracy       Monarchy        1946         7         1  \n",
       "1  Non-democracy  Civilian Dict        1953        10         1  "
      ]
     },
     "execution_count": 155,
     "metadata": {},
     "output_type": "execute_result"
    }
   ],
   "source": [
    "data.head(2)"
   ]
  },
  {
   "cell_type": "code",
   "execution_count": 122,
   "metadata": {},
   "outputs": [],
   "source": [
    "# Other ways to estimate the survival function in lifelines are \n",
    "# BreslowFlemingHarringtonFitter, WeibullFitter, ExponentialFitter"
   ]
  },
  {
   "cell_type": "code",
   "execution_count": 134,
   "metadata": {},
   "outputs": [
    {
     "data": {
      "text/plain": [
       "<matplotlib.axes._subplots.AxesSubplot at 0x1a1de1b2e8>"
      ]
     },
     "execution_count": 134,
     "metadata": {},
     "output_type": "execute_result"
    },
    {
     "data": {
      "image/png": "[encoded data removed]",
      "text/plain": [
       "<Figure size 432x288 with 1 Axes>"
      ]
     },
     "metadata": {},
     "output_type": "display_data"
    }
   ],
   "source": [
    "T = data[\"duration\"]\n",
    "E = data[\"observed\"]\n",
    "\n",
    "kmf.fit(T, event_observed=E)\n",
    "kmf.plot()"
   ]
  },
  {
   "cell_type": "code",
   "execution_count": 137,
   "metadata": {},
   "outputs": [
    {
     "data": {
      "image/png": "[encoded data removed]",
      "text/plain": [
       "<Figure size 432x288 with 1 Axes>"
      ]
     },
     "metadata": {},
     "output_type": "display_data"
    }
   ],
   "source": [
    "#kmf.survival_function_.plot()\n",
    "kmf.confidence_interval_.plot()\n",
    "plt.title('Survival function of political regimes');"
   ]
  },
  {
   "cell_type": "code",
   "execution_count": 140,
   "metadata": {},
   "outputs": [
    {
     "data": {
      "image/png": "[encoded data removed]",
      "text/plain": [
       "<Figure size 432x288 with 1 Axes>"
      ]
     },
     "metadata": {},
     "output_type": "display_data"
    }
   ],
   "source": [
    "plt.style.use('ggplot')\n",
    "ax = plt.subplot(111)\n",
    "\n",
    "dem = (data[\"democracy\"] == \"Democracy\")\n",
    "kmf.fit(T[dem], event_observed=E[dem], label=\"Democratic Regimes\")\n",
    "kmf.plot(ax=ax, ci_force_lines=False)\n",
    "kmf.fit(T[~dem], event_observed=E[~dem], label=\"Non-democratic Regimes\")\n",
    "kmf.plot(ax=ax, ci_force_lines=True)\n",
    "\n",
    "plt.ylim(0, 1);\n",
    "plt.title(\"Lifespans of different global regimes\");"
   ]
  },
  {
   "cell_type": "code",
   "execution_count": 142,
   "metadata": {},
   "outputs": [
    {
     "name": "stdout",
     "output_type": "stream",
     "text": [
      "Median survival time of democratic: 3.0\n",
      "Median survival time of non-democratic: 6.0\n"
     ]
    },
    {
     "data": {
      "image/png": "[encoded data removed]",
      "text/plain": [
       "<Figure size 432x288 with 1 Axes>"
      ]
     },
     "metadata": {},
     "output_type": "display_data"
    }
   ],
   "source": [
    "#spcify the datarange\n",
    "ax = plt.subplot(111)\n",
    "\n",
    "t = np.linspace(0, 50, 51)\n",
    "kmf.fit(T[dem], event_observed=E[dem], timeline=t, label=\"Democratic Regimes\")\n",
    "ax = kmf.plot(ax=ax)\n",
    "print(\"Median survival time of democratic:\", kmf.median_)\n",
    "\n",
    "kmf.fit(T[~dem], event_observed=E[~dem], timeline=t, label=\"Non-democratic Regimes\")\n",
    "ax = kmf.plot(ax=ax)\n",
    "print(\"Median survival time of non-democratic:\", kmf.median_)\n",
    "\n",
    "plt.ylim(0,1)\n",
    "plt.title(\"Lifespans of different global regimes\");"
   ]
  },
  {
   "cell_type": "code",
   "execution_count": 143,
   "metadata": {},
   "outputs": [
    {
     "name": "stdout",
     "output_type": "stream",
     "text": [
      "\n",
      "df=1, alpha=0.99, null_distribution=chi squared, t_0=-1\n",
      "\n",
      "test_statistic      p     \n",
      "      260.4695 0.0000  ***\n",
      "---\n",
      "Signif. codes:  0 '***' 0.001 '**' 0.01 '*' 0.05 '.' 0.1 ' ' 1 \n"
     ]
    }
   ],
   "source": [
    "from lifelines.statistics import logrank_test\n",
    "results = logrank_test(T[dem], T[~dem], E[dem], E[~dem], alpha=.99)\n",
    "results.print_summary()\n",
    "## p -value == 0.0000, means two values are significantly different"
   ]
  },
  {
   "cell_type": "code",
   "execution_count": 144,
   "metadata": {},
   "outputs": [
    {
     "data": {
      "image/png": "[encoded data removed]",
      "text/plain": [
       "<Figure size 432x288 with 6 Axes>"
      ]
     },
     "metadata": {},
     "output_type": "display_data"
    }
   ],
   "source": [
    "# comparison the different types of regimes present in the dataset:\n",
    "regime_types = data['regime'].unique()t\n",
    "for i,regime_type in enumerate(regime_types):\n",
    "    ax = plt.subplot(2, 3, i+1)\n",
    "    ix = data['regime'] == regime_type\n",
    "    kmf.fit( T[ix], E[ix], label=regime_type)\n",
    "    kmf.plot(ax=ax, legend=False)\n",
    "    plt.title(regime_type)\n",
    "    plt.xlim(0, 50)\n",
    "    if i==0:\n",
    "        plt.ylabel('Frac. in power after $n$ years')\n",
    "plt.tight_layout()"
   ]
  },
  {
   "cell_type": "code",
   "execution_count": 145,
   "metadata": {},
   "outputs": [
    {
     "data": {
      "text/plain": [
       "<lifelines.KaplanMeierFitter: fitted with 6 observations, 2 censored>"
      ]
     },
     "execution_count": 145,
     "metadata": {},
     "output_type": "execute_result"
    }
   ],
   "source": [
    "T = [0,3,3,2,1,2]\n",
    "E = [1,1,0,0,1,1]\n",
    "kmf.fit(T, event_observed=E)"
   ]
  },
  {
   "cell_type": "code",
   "execution_count": 146,
   "metadata": {},
   "outputs": [
    {
     "name": "stdout",
     "output_type": "stream",
     "text": [
      "T (durations):  [ 3.  1.  5.]\n",
      "E (event_observed):  [ True  True False]\n"
     ]
    }
   ],
   "source": [
    "from lifelines.utils import datetimes_to_durations\n",
    "\n",
    "start_date = ['2013-10-10 0:00:00', '2013-10-09', '2013-10-10']\n",
    "end_date = ['2013-10-13', '2013-10-10', None]\n",
    "T, E = datetimes_to_durations(start_date, end_date, fill_date='2013-10-15')\n",
    "print('T (durations): ', T)\n",
    "print('E (event_observed): ', E)"
   ]
  },
  {
   "cell_type": "code",
   "execution_count": 147,
   "metadata": {},
   "outputs": [
    {
     "name": "stdout",
     "output_type": "stream",
     "text": [
      "0.163660178649 0.942646346687\n",
      "n=1808, number of events=1468\n",
      "\n",
      "          coef  se(coef)  lower 0.95  upper 0.95\n",
      "lambda_ 0.1637    0.0046      0.1546      0.1727\n",
      "rho_    0.9426    0.0180      0.9074      0.9779\n"
     ]
    }
   ],
   "source": [
    "from lifelines import WeibullFitter\n",
    "\n",
    "T = data['duration']\n",
    "E = data['observed']\n",
    "\n",
    "wf = WeibullFitter()\n",
    "wf.fit(T, E)\n",
    "print(wf.lambda_, wf.rho_)\n",
    "wf.print_summary()"
   ]
  },
  {
   "cell_type": "code",
   "execution_count": 150,
   "metadata": {},
   "outputs": [
    {
     "name": "stdout",
     "output_type": "stream",
     "text": [
      "          NA_estimate\n",
      "timeline             \n",
      "0.0          0.000000\n",
      "1.0          0.325912\n",
      "2.0          0.507356\n",
      "3.0          0.671251\n",
      "4.0          0.869867\n"
     ]
    },
    {
     "data": {
      "text/plain": [
       "<matplotlib.axes._subplots.AxesSubplot at 0x1a1d712a20>"
      ]
     },
     "execution_count": 150,
     "metadata": {},
     "output_type": "execute_result"
    },
    {
     "data": {
      "image/png": "[encoded data removed]",
      "text/plain": [
       "<Figure size 432x288 with 1 Axes>"
      ]
     },
     "metadata": {},
     "output_type": "display_data"
    }
   ],
   "source": [
    "from lifelines import NelsonAalenFitter\n",
    "T = data[\"duration\"]\n",
    "E = data[\"observed\"]\n",
    "naf = NelsonAalenFitter()\n",
    "\n",
    "naf.fit(T,event_observed=E)\n",
    "\n",
    "print(naf.cumulative_hazard_.head())\n",
    "naf.plot()"
   ]
  },
  {
   "cell_type": "markdown",
   "metadata": {},
   "source": [
    "#Estimating hazard rates\n",
    "#cumulative hazard with Nelson-Aalen"
   ]
  },
  {
   "cell_type": "code",
   "execution_count": 153,
   "metadata": {},
   "outputs": [
    {
     "data": {
      "image/png": "[encoded data removed]",
      "text/plain": [
       "<Figure size 432x288 with 1 Axes>"
      ]
     },
     "metadata": {},
     "output_type": "display_data"
    }
   ],
   "source": [
    "naf.fit(T[dem], event_observed=E[dem], label=\"Democratic Regimes\")\n",
    "ax = naf.plot(loc=slice(0, 50))\n",
    "naf.fit(T[~dem], event_observed=E[~dem], label=\"Non-democratic Regimes\")\n",
    "naf.plot(ax=ax, loc=slice(0, 50))\n",
    "plt.title(\"Cumulative hazard function of different global regimes\");"
   ]
  },
  {
   "cell_type": "code",
   "execution_count": 160,
   "metadata": {},
   "outputs": [
    {
     "data": {
      "image/png": "[encoded data removed]",
      "text/plain": [
       "<Figure size 432x288 with 1 Axes>"
      ]
     },
     "metadata": {},
     "output_type": "display_data"
    }
   ],
   "source": [
    "b = 8.\n",
    "naf.fit(T[dem], event_observed=E[dem], label=\"Democratic Regimes\")\n",
    "ax = naf.plot_hazard(bandwidth=b)\n",
    "naf.fit(T[~dem], event_observed=E[~dem], label=\"Non-democratic Regimes\")\n",
    "naf.plot_hazard(ax=ax, bandwidth=b)\n",
    "plt.title(\"Hazard function of different global regimes | bandwidth=%.1f\"%b);\n",
    "plt.ylim(0, 0.4)\n",
    "plt.xlim(0, 25);"
   ]
  },
  {
   "cell_type": "code",
   "execution_count": 175,
   "metadata": {},
   "outputs": [],
   "source": [
    "from lifelines.datasets import load_lcd\n",
    "lcd_dataset = load_lcd()\n",
    "ix = lcd_dataset['group'] == 'alluvial_fan'"
   ]
  },
  {
   "cell_type": "code",
   "execution_count": 176,
   "metadata": {},
   "outputs": [
    {
     "data": {
      "text/plain": [
       "<lifelines.KaplanMeierFitter: fitted with 55 observations, 12 censored>"
      ]
     },
     "execution_count": 176,
     "metadata": {},
     "output_type": "execute_result"
    }
   ],
   "source": [
    "T = lcd_dataset[ix]['T']\n",
    "E = lcd_dataset[ix]['C'] #boolean array, True if observed.\n",
    "kmf = KaplanMeierFitter()\n",
    "kmf.fit(T, E, left_censorship=True)"
   ]
  },
  {
   "cell_type": "code",
   "execution_count": 177,
   "metadata": {},
   "outputs": [
    {
     "name": "stdout",
     "output_type": "stream",
     "text": [
      "          KM_estimate\n",
      "timeline             \n",
      "0.0          0.087646\n",
      "1.0          0.197203\n",
      "2.0          0.657343\n",
      "3.0          0.788811\n",
      "4.0          0.854545\n",
      "5.0          0.909091\n",
      "7.0          0.963636\n",
      "8.0          0.981818\n",
      "9.0          1.000000\n"
     ]
    },
    {
     "data": {
      "text/plain": [
       "<matplotlib.axes._subplots.AxesSubplot at 0x1a1e7f4c88>"
      ]
     },
     "execution_count": 177,
     "metadata": {},
     "output_type": "execute_result"
    },
    {
     "data": {
      "image/png": "[encoded data removed]",
      "text/plain": [
       "<Figure size 432x288 with 1 Axes>"
      ]
     },
     "metadata": {},
     "output_type": "display_data"
    }
   ],
   "source": [
    "print(kmf.cumulative_density_)\n",
    "kmf.plot() #will plot the CDF"
   ]
  },
  {
   "cell_type": "code",
   "execution_count": 178,
   "metadata": {},
   "outputs": [
    {
     "name": "stdout",
     "output_type": "stream",
     "text": [
      "          KM_estimate\n",
      "timeline             \n",
      "0.0          0.087646\n",
      "1.0          0.197203\n",
      "2.0          0.657343\n",
      "3.0          0.788811\n",
      "4.0          0.854545\n",
      "5.0          0.909091\n",
      "7.0          0.963636\n",
      "8.0          0.981818\n",
      "9.0          1.000000\n"
     ]
    },
    {
     "data": {
      "text/plain": [
       "<matplotlib.axes._subplots.AxesSubplot at 0x1a1e8a8e10>"
      ]
     },
     "execution_count": 178,
     "metadata": {},
     "output_type": "execute_result"
    },
    {
     "data": {
      "image/png": "[encoded data removed]",
      "text/plain": [
       "<Figure size 432x288 with 1 Axes>"
      ]
     },
     "metadata": {},
     "output_type": "display_data"
    }
   ],
   "source": [
    "kmf.fit(T, E, left_censorship=False)\n",
    "print(kmf.cumulative_density_)\n",
    "kmf.plot() #will plot the CDF"
   ]
  },
  {
   "cell_type": "code",
   "execution_count": 188,
   "metadata": {},
   "outputs": [
    {
     "name": "stdout",
     "output_type": "stream",
     "text": [
      "Iteration 1: norm_delta = 0.48337, step_size = 0.95000, ll = -675.38063, seconds_since_start = 0.0\n",
      "Iteration 2: norm_delta = 0.13160, step_size = 0.95000, ll = -659.79004, seconds_since_start = 0.0\n",
      "Iteration 3: norm_delta = 0.01712, step_size = 0.95000, ll = -658.76197, seconds_since_start = 0.0\n",
      "Iteration 4: norm_delta = 0.00103, step_size = 0.95000, ll = -658.74771, seconds_since_start = 0.0\n",
      "Iteration 5: norm_delta = 0.00005, step_size = 0.95000, ll = -658.74766, seconds_since_start = 0.1\n",
      "Iteration 6: norm_delta = 0.00000, step_size = 0.95000, ll = -658.74766, seconds_since_start = 0.1\n",
      "Convergence completed after 6 iterations.\n"
     ]
    },
    {
     "data": {
      "text/plain": [
       "<lifelines.CoxPHFitter: fitted with 432 observations, 318 censored>"
      ]
     },
     "execution_count": 188,
     "metadata": {},
     "output_type": "execute_result"
    }
   ],
   "source": [
    "## Cox proportional hazard\n",
    "from lifelines.datasets import load_rossi\n",
    "rossi_dataset = load_rossi()\n",
    "cph.fit(rossi_dataset, duration_col='week', event_col='arrest', show_progress=True)"
   ]
  },
  {
   "cell_type": "code",
   "execution_count": 189,
   "metadata": {},
   "outputs": [
    {
     "name": "stdout",
     "output_type": "stream",
     "text": [
      "n=432, number of events=114\n",
      "\n",
      "        coef  exp(coef)  se(coef)       z      p  lower 0.95  upper 0.95    \n",
      "fin  -0.3794     0.6843    0.1914 -1.9826 0.0474     -0.7545     -0.0043   *\n",
      "age  -0.0574     0.9442    0.0220 -2.6109 0.0090     -0.1006     -0.0143  **\n",
      "race  0.3139     1.3688    0.3080  1.0192 0.3081     -0.2898      0.9176    \n",
      "wexp -0.1498     0.8609    0.2122 -0.7058 0.4803     -0.5657      0.2662    \n",
      "mar  -0.4337     0.6481    0.3819 -1.1357 0.2561     -1.1822      0.3147    \n",
      "paro -0.0849     0.9186    0.1958 -0.4336 0.6646     -0.4685      0.2988    \n",
      "prio  0.0915     1.0958    0.0286  3.1938 0.0014      0.0353      0.1476  **\n",
      "---\n",
      "Signif. codes:  0 '***' 0.001 '**' 0.01 '*' 0.05 '.' 0.1 ' ' 1 \n",
      "\n",
      "Concordance = 0.640\n",
      "Likelihood ratio test = 33.266 on 7 df, p=0.00002\n"
     ]
    }
   ],
   "source": [
    "cph.print_summary()"
   ]
  },
  {
   "cell_type": "code",
   "execution_count": 181,
   "metadata": {},
   "outputs": [
    {
     "data": {
      "text/html": [
       "<div>\n",
       "<style scoped>\n",
       "    .dataframe tbody tr th:only-of-type {\n",
       "        vertical-align: middle;\n",
       "    }\n",
       "\n",
       "    .dataframe tbody tr th {\n",
       "        vertical-align: top;\n",
       "    }\n",
       "\n",
       "    .dataframe thead th {\n",
       "        text-align: right;\n",
       "    }\n",
       "</style>\n",
       "<table border=\"1\" class=\"dataframe\">\n",
       "  <thead>\n",
       "    <tr style=\"text-align: right;\">\n",
       "      <th></th>\n",
       "      <th>week</th>\n",
       "      <th>arrest</th>\n",
       "      <th>fin</th>\n",
       "      <th>age</th>\n",
       "      <th>race</th>\n",
       "      <th>wexp</th>\n",
       "      <th>mar</th>\n",
       "      <th>paro</th>\n",
       "      <th>prio</th>\n",
       "    </tr>\n",
       "  </thead>\n",
       "  <tbody>\n",
       "    <tr>\n",
       "      <th>0</th>\n",
       "      <td>20</td>\n",
       "      <td>1</td>\n",
       "      <td>0</td>\n",
       "      <td>27</td>\n",
       "      <td>1</td>\n",
       "      <td>0</td>\n",
       "      <td>0</td>\n",
       "      <td>1</td>\n",
       "      <td>3</td>\n",
       "    </tr>\n",
       "  </tbody>\n",
       "</table>\n",
       "</div>"
      ],
      "text/plain": [
       "   week  arrest  fin  age  race  wexp  mar  paro  prio\n",
       "0    20       1    0   27     1     0    0     1     3"
      ]
     },
     "execution_count": 181,
     "metadata": {},
     "output_type": "execute_result"
    }
   ],
   "source": [
    "rossi_dataset.head(1)"
   ]
  },
  {
   "cell_type": "code",
   "execution_count": 184,
   "metadata": {},
   "outputs": [
    {
     "data": {
      "text/html": [
       "<div>\n",
       "<style scoped>\n",
       "    .dataframe tbody tr th:only-of-type {\n",
       "        vertical-align: middle;\n",
       "    }\n",
       "\n",
       "    .dataframe tbody tr th {\n",
       "        vertical-align: top;\n",
       "    }\n",
       "\n",
       "    .dataframe thead th {\n",
       "        text-align: right;\n",
       "    }\n",
       "</style>\n",
       "<table border=\"1\" class=\"dataframe\">\n",
       "  <thead>\n",
       "    <tr style=\"text-align: right;\">\n",
       "      <th></th>\n",
       "      <th>fin</th>\n",
       "      <th>age</th>\n",
       "      <th>race</th>\n",
       "      <th>wexp</th>\n",
       "      <th>mar</th>\n",
       "      <th>paro</th>\n",
       "      <th>prio</th>\n",
       "    </tr>\n",
       "  </thead>\n",
       "  <tbody>\n",
       "    <tr>\n",
       "      <th>coef</th>\n",
       "      <td>-0.379422</td>\n",
       "      <td>-0.057438</td>\n",
       "      <td>0.3139</td>\n",
       "      <td>-0.149796</td>\n",
       "      <td>-0.433704</td>\n",
       "      <td>-0.084871</td>\n",
       "      <td>0.091497</td>\n",
       "    </tr>\n",
       "  </tbody>\n",
       "</table>\n",
       "</div>"
      ],
      "text/plain": [
       "           fin       age    race      wexp       mar      paro      prio\n",
       "coef -0.379422 -0.057438  0.3139 -0.149796 -0.433704 -0.084871  0.091497"
      ]
     },
     "execution_count": 184,
     "metadata": {},
     "output_type": "execute_result"
    }
   ],
   "source": [
    "cph.hazards_"
   ]
  },
  {
   "cell_type": "code",
   "execution_count": 192,
   "metadata": {},
   "outputs": [
    {
     "data": {
      "text/plain": [
       "-658.74765944640319"
      ]
     },
     "execution_count": 192,
     "metadata": {},
     "output_type": "execute_result"
    }
   ],
   "source": [
    "cph._log_likelihood"
   ]
  },
  {
   "cell_type": "code",
   "execution_count": 195,
   "metadata": {},
   "outputs": [
    {
     "data": {
      "text/plain": [
       "(array([[ -2.84650988e-05,  -1.38379063e-04,   6.78109549e-06,\n",
       "           9.11231378e-06,  -5.06385930e-05,   2.67908568e-05,\n",
       "          -2.16129004e-04]]), 0.64032924709971351)"
      ]
     },
     "execution_count": 195,
     "metadata": {},
     "output_type": "execute_result"
    }
   ],
   "source": [
    "cph._score_"
   ]
  },
  {
   "cell_type": "code",
   "execution_count": 196,
   "metadata": {},
   "outputs": [
    {
     "data": {
      "text/plain": [
       "0.64032924709971351"
      ]
     },
     "execution_count": 196,
     "metadata": {},
     "output_type": "execute_result"
    }
   ],
   "source": [
    "cph.score_"
   ]
  },
  {
   "cell_type": "code",
   "execution_count": 198,
   "metadata": {},
   "outputs": [
    {
     "data": {
      "text/plain": [
       "array([[-110.83839183,   -5.61227499,   -6.68340213,    0.318173  ,\n",
       "           2.22332899,    9.56309596,   -6.14698774],\n",
       "       [  -5.61227499,  -64.34002947,   -1.96705492,  -28.63412231,\n",
       "         -11.96979735,    7.5386115 ,    4.73863436],\n",
       "       [  -6.68340213,   -1.96705492,  -99.50976304,    2.07109458,\n",
       "           7.37522433,   -2.75946243,    6.79711111],\n",
       "       [   0.318173  ,  -28.63412231,    2.07109458, -115.10861416,\n",
       "         -20.48937279,   -7.19717208,   39.10754388],\n",
       "       [   2.22332899,  -11.96979735,    7.37522433,  -20.48937279,\n",
       "         -68.93409701,   -4.66060572,    2.4389922 ],\n",
       "       [   9.56309596,    7.5386115 ,   -2.75946243,   -7.19717208,\n",
       "          -4.66060572, -115.9513133 ,   23.2127272 ],\n",
       "       [  -6.14698774,    4.73863436,    6.79711111,   39.10754388,\n",
       "           2.4389922 ,   23.2127272 , -163.47089736]])"
      ]
     },
     "execution_count": 198,
     "metadata": {},
     "output_type": "execute_result"
    }
   ],
   "source": [
    "cph._hessian_"
   ]
  },
  {
   "cell_type": "code",
   "execution_count": 201,
   "metadata": {},
   "outputs": [
    {
     "data": {
      "text/html": [
       "<div>\n",
       "<style scoped>\n",
       "    .dataframe tbody tr th:only-of-type {\n",
       "        vertical-align: middle;\n",
       "    }\n",
       "\n",
       "    .dataframe tbody tr th {\n",
       "        vertical-align: top;\n",
       "    }\n",
       "\n",
       "    .dataframe thead th {\n",
       "        text-align: right;\n",
       "    }\n",
       "</style>\n",
       "<table border=\"1\" class=\"dataframe\">\n",
       "  <thead>\n",
       "    <tr style=\"text-align: right;\">\n",
       "      <th></th>\n",
       "      <th>0</th>\n",
       "      <th>1</th>\n",
       "      <th>2</th>\n",
       "      <th>3</th>\n",
       "      <th>4</th>\n",
       "      <th>5</th>\n",
       "      <th>6</th>\n",
       "      <th>7</th>\n",
       "      <th>8</th>\n",
       "      <th>9</th>\n",
       "      <th>...</th>\n",
       "      <th>422</th>\n",
       "      <th>423</th>\n",
       "      <th>424</th>\n",
       "      <th>425</th>\n",
       "      <th>426</th>\n",
       "      <th>427</th>\n",
       "      <th>428</th>\n",
       "      <th>429</th>\n",
       "      <th>430</th>\n",
       "      <th>431</th>\n",
       "    </tr>\n",
       "    <tr>\n",
       "      <th>event_at</th>\n",
       "      <th></th>\n",
       "      <th></th>\n",
       "      <th></th>\n",
       "      <th></th>\n",
       "      <th></th>\n",
       "      <th></th>\n",
       "      <th></th>\n",
       "      <th></th>\n",
       "      <th></th>\n",
       "      <th></th>\n",
       "      <th></th>\n",
       "      <th></th>\n",
       "      <th></th>\n",
       "      <th></th>\n",
       "      <th></th>\n",
       "      <th></th>\n",
       "      <th></th>\n",
       "      <th></th>\n",
       "      <th></th>\n",
       "      <th></th>\n",
       "      <th></th>\n",
       "    </tr>\n",
       "  </thead>\n",
       "  <tbody>\n",
       "    <tr>\n",
       "      <th>0.0</th>\n",
       "      <td>1.000000</td>\n",
       "      <td>1.000000</td>\n",
       "      <td>1.000000</td>\n",
       "      <td>1.000000</td>\n",
       "      <td>1.000000</td>\n",
       "      <td>1.000000</td>\n",
       "      <td>1.000000</td>\n",
       "      <td>1.000000</td>\n",
       "      <td>1.000000</td>\n",
       "      <td>1.000000</td>\n",
       "      <td>...</td>\n",
       "      <td>1.000000</td>\n",
       "      <td>1.000000</td>\n",
       "      <td>1.000000</td>\n",
       "      <td>1.000000</td>\n",
       "      <td>1.000000</td>\n",
       "      <td>1.000000</td>\n",
       "      <td>1.000000</td>\n",
       "      <td>1.000000</td>\n",
       "      <td>1.000000</td>\n",
       "      <td>1.000000</td>\n",
       "    </tr>\n",
       "    <tr>\n",
       "      <th>1.0</th>\n",
       "      <td>0.997616</td>\n",
       "      <td>0.993695</td>\n",
       "      <td>0.994083</td>\n",
       "      <td>0.999045</td>\n",
       "      <td>0.997626</td>\n",
       "      <td>0.997578</td>\n",
       "      <td>0.998865</td>\n",
       "      <td>0.997827</td>\n",
       "      <td>0.995453</td>\n",
       "      <td>0.997462</td>\n",
       "      <td>...</td>\n",
       "      <td>0.997826</td>\n",
       "      <td>0.996005</td>\n",
       "      <td>0.996031</td>\n",
       "      <td>0.997774</td>\n",
       "      <td>0.998892</td>\n",
       "      <td>0.999184</td>\n",
       "      <td>0.997033</td>\n",
       "      <td>0.998866</td>\n",
       "      <td>0.998170</td>\n",
       "      <td>0.998610</td>\n",
       "    </tr>\n",
       "    <tr>\n",
       "      <th>2.0</th>\n",
       "      <td>0.995230</td>\n",
       "      <td>0.987411</td>\n",
       "      <td>0.988183</td>\n",
       "      <td>0.998089</td>\n",
       "      <td>0.995250</td>\n",
       "      <td>0.995154</td>\n",
       "      <td>0.997728</td>\n",
       "      <td>0.995653</td>\n",
       "      <td>0.990914</td>\n",
       "      <td>0.994922</td>\n",
       "      <td>...</td>\n",
       "      <td>0.995649</td>\n",
       "      <td>0.992014</td>\n",
       "      <td>0.992067</td>\n",
       "      <td>0.995547</td>\n",
       "      <td>0.997782</td>\n",
       "      <td>0.998366</td>\n",
       "      <td>0.994065</td>\n",
       "      <td>0.997730</td>\n",
       "      <td>0.996337</td>\n",
       "      <td>0.997217</td>\n",
       "    </tr>\n",
       "    <tr>\n",
       "      <th>3.0</th>\n",
       "      <td>0.992848</td>\n",
       "      <td>0.981162</td>\n",
       "      <td>0.982314</td>\n",
       "      <td>0.997133</td>\n",
       "      <td>0.992878</td>\n",
       "      <td>0.992734</td>\n",
       "      <td>0.996592</td>\n",
       "      <td>0.993482</td>\n",
       "      <td>0.986392</td>\n",
       "      <td>0.992388</td>\n",
       "      <td>...</td>\n",
       "      <td>0.993476</td>\n",
       "      <td>0.988037</td>\n",
       "      <td>0.988115</td>\n",
       "      <td>0.993324</td>\n",
       "      <td>0.996673</td>\n",
       "      <td>0.997548</td>\n",
       "      <td>0.991105</td>\n",
       "      <td>0.996595</td>\n",
       "      <td>0.994507</td>\n",
       "      <td>0.995826</td>\n",
       "    </tr>\n",
       "    <tr>\n",
       "      <th>4.0</th>\n",
       "      <td>0.990468</td>\n",
       "      <td>0.974941</td>\n",
       "      <td>0.976468</td>\n",
       "      <td>0.996176</td>\n",
       "      <td>0.990507</td>\n",
       "      <td>0.990316</td>\n",
       "      <td>0.995455</td>\n",
       "      <td>0.991311</td>\n",
       "      <td>0.981882</td>\n",
       "      <td>0.989855</td>\n",
       "      <td>...</td>\n",
       "      <td>0.991304</td>\n",
       "      <td>0.984067</td>\n",
       "      <td>0.984171</td>\n",
       "      <td>0.991100</td>\n",
       "      <td>0.995563</td>\n",
       "      <td>0.996729</td>\n",
       "      <td>0.988147</td>\n",
       "      <td>0.995458</td>\n",
       "      <td>0.992676</td>\n",
       "      <td>0.994433</td>\n",
       "    </tr>\n",
       "    <tr>\n",
       "      <th>5.0</th>\n",
       "      <td>0.988085</td>\n",
       "      <td>0.968739</td>\n",
       "      <td>0.970639</td>\n",
       "      <td>0.995216</td>\n",
       "      <td>0.988135</td>\n",
       "      <td>0.987895</td>\n",
       "      <td>0.994315</td>\n",
       "      <td>0.989139</td>\n",
       "      <td>0.977378</td>\n",
       "      <td>0.987320</td>\n",
       "      <td>...</td>\n",
       "      <td>0.989129</td>\n",
       "      <td>0.980101</td>\n",
       "      <td>0.980231</td>\n",
       "      <td>0.988875</td>\n",
       "      <td>0.994450</td>\n",
       "      <td>0.995909</td>\n",
       "      <td>0.985189</td>\n",
       "      <td>0.994319</td>\n",
       "      <td>0.990843</td>\n",
       "      <td>0.993039</td>\n",
       "    </tr>\n",
       "    <tr>\n",
       "      <th>6.0</th>\n",
       "      <td>0.985699</td>\n",
       "      <td>0.962552</td>\n",
       "      <td>0.964820</td>\n",
       "      <td>0.994254</td>\n",
       "      <td>0.985758</td>\n",
       "      <td>0.985471</td>\n",
       "      <td>0.993172</td>\n",
       "      <td>0.986961</td>\n",
       "      <td>0.972877</td>\n",
       "      <td>0.984781</td>\n",
       "      <td>...</td>\n",
       "      <td>0.986950</td>\n",
       "      <td>0.976134</td>\n",
       "      <td>0.976290</td>\n",
       "      <td>0.986645</td>\n",
       "      <td>0.993334</td>\n",
       "      <td>0.995085</td>\n",
       "      <td>0.982227</td>\n",
       "      <td>0.993177</td>\n",
       "      <td>0.989006</td>\n",
       "      <td>0.991640</td>\n",
       "    </tr>\n",
       "    <tr>\n",
       "      <th>7.0</th>\n",
       "      <td>0.983305</td>\n",
       "      <td>0.956370</td>\n",
       "      <td>0.959004</td>\n",
       "      <td>0.993287</td>\n",
       "      <td>0.983374</td>\n",
       "      <td>0.983039</td>\n",
       "      <td>0.992024</td>\n",
       "      <td>0.984777</td>\n",
       "      <td>0.968371</td>\n",
       "      <td>0.982235</td>\n",
       "      <td>...</td>\n",
       "      <td>0.984764</td>\n",
       "      <td>0.972162</td>\n",
       "      <td>0.972343</td>\n",
       "      <td>0.984409</td>\n",
       "      <td>0.992213</td>\n",
       "      <td>0.994258</td>\n",
       "      <td>0.979258</td>\n",
       "      <td>0.992030</td>\n",
       "      <td>0.987162</td>\n",
       "      <td>0.990236</td>\n",
       "    </tr>\n",
       "    <tr>\n",
       "      <th>8.0</th>\n",
       "      <td>0.971402</td>\n",
       "      <td>0.926001</td>\n",
       "      <td>0.930402</td>\n",
       "      <td>0.988460</td>\n",
       "      <td>0.971520</td>\n",
       "      <td>0.970950</td>\n",
       "      <td>0.986294</td>\n",
       "      <td>0.973910</td>\n",
       "      <td>0.946118</td>\n",
       "      <td>0.969581</td>\n",
       "      <td>...</td>\n",
       "      <td>0.973888</td>\n",
       "      <td>0.952510</td>\n",
       "      <td>0.952816</td>\n",
       "      <td>0.973282</td>\n",
       "      <td>0.986619</td>\n",
       "      <td>0.990125</td>\n",
       "      <td>0.964523</td>\n",
       "      <td>0.986304</td>\n",
       "      <td>0.977978</td>\n",
       "      <td>0.983232</td>\n",
       "    </tr>\n",
       "    <tr>\n",
       "      <th>9.0</th>\n",
       "      <td>0.966614</td>\n",
       "      <td>0.913958</td>\n",
       "      <td>0.919043</td>\n",
       "      <td>0.986508</td>\n",
       "      <td>0.966752</td>\n",
       "      <td>0.966089</td>\n",
       "      <td>0.983979</td>\n",
       "      <td>0.969536</td>\n",
       "      <td>0.937236</td>\n",
       "      <td>0.964495</td>\n",
       "      <td>...</td>\n",
       "      <td>0.969510</td>\n",
       "      <td>0.944651</td>\n",
       "      <td>0.945006</td>\n",
       "      <td>0.968804</td>\n",
       "      <td>0.984358</td>\n",
       "      <td>0.988453</td>\n",
       "      <td>0.958609</td>\n",
       "      <td>0.983991</td>\n",
       "      <td>0.974277</td>\n",
       "      <td>0.980405</td>\n",
       "    </tr>\n",
       "    <tr>\n",
       "      <th>10.0</th>\n",
       "      <td>0.964223</td>\n",
       "      <td>0.907978</td>\n",
       "      <td>0.913399</td>\n",
       "      <td>0.985531</td>\n",
       "      <td>0.964370</td>\n",
       "      <td>0.963660</td>\n",
       "      <td>0.982821</td>\n",
       "      <td>0.967350</td>\n",
       "      <td>0.932815</td>\n",
       "      <td>0.961954</td>\n",
       "      <td>...</td>\n",
       "      <td>0.967323</td>\n",
       "      <td>0.940735</td>\n",
       "      <td>0.941114</td>\n",
       "      <td>0.966567</td>\n",
       "      <td>0.983226</td>\n",
       "      <td>0.987616</td>\n",
       "      <td>0.955657</td>\n",
       "      <td>0.982833</td>\n",
       "      <td>0.972426</td>\n",
       "      <td>0.978990</td>\n",
       "    </tr>\n",
       "    <tr>\n",
       "      <th>11.0</th>\n",
       "      <td>0.959411</td>\n",
       "      <td>0.896023</td>\n",
       "      <td>0.902109</td>\n",
       "      <td>0.983560</td>\n",
       "      <td>0.959577</td>\n",
       "      <td>0.958774</td>\n",
       "      <td>0.980485</td>\n",
       "      <td>0.962951</td>\n",
       "      <td>0.923949</td>\n",
       "      <td>0.956844</td>\n",
       "      <td>...</td>\n",
       "      <td>0.962920</td>\n",
       "      <td>0.932876</td>\n",
       "      <td>0.933304</td>\n",
       "      <td>0.962064</td>\n",
       "      <td>0.980945</td>\n",
       "      <td>0.985928</td>\n",
       "      <td>0.949724</td>\n",
       "      <td>0.980499</td>\n",
       "      <td>0.968700</td>\n",
       "      <td>0.976140</td>\n",
       "    </tr>\n",
       "    <tr>\n",
       "      <th>12.0</th>\n",
       "      <td>0.954529</td>\n",
       "      <td>0.883991</td>\n",
       "      <td>0.890739</td>\n",
       "      <td>0.981555</td>\n",
       "      <td>0.954715</td>\n",
       "      <td>0.953817</td>\n",
       "      <td>0.978109</td>\n",
       "      <td>0.958486</td>\n",
       "      <td>0.914994</td>\n",
       "      <td>0.951661</td>\n",
       "      <td>...</td>\n",
       "      <td>0.958451</td>\n",
       "      <td>0.924929</td>\n",
       "      <td>0.925406</td>\n",
       "      <td>0.957494</td>\n",
       "      <td>0.978624</td>\n",
       "      <td>0.984209</td>\n",
       "      <td>0.943711</td>\n",
       "      <td>0.978124</td>\n",
       "      <td>0.964915</td>\n",
       "      <td>0.973242</td>\n",
       "    </tr>\n",
       "    <tr>\n",
       "      <th>13.0</th>\n",
       "      <td>0.952091</td>\n",
       "      <td>0.878023</td>\n",
       "      <td>0.885094</td>\n",
       "      <td>0.980551</td>\n",
       "      <td>0.952287</td>\n",
       "      <td>0.951343</td>\n",
       "      <td>0.976920</td>\n",
       "      <td>0.956255</td>\n",
       "      <td>0.910539</td>\n",
       "      <td>0.949074</td>\n",
       "      <td>...</td>\n",
       "      <td>0.956218</td>\n",
       "      <td>0.920972</td>\n",
       "      <td>0.921473</td>\n",
       "      <td>0.955212</td>\n",
       "      <td>0.977463</td>\n",
       "      <td>0.983349</td>\n",
       "      <td>0.940712</td>\n",
       "      <td>0.976937</td>\n",
       "      <td>0.963023</td>\n",
       "      <td>0.971793</td>\n",
       "    </tr>\n",
       "    <tr>\n",
       "      <th>14.0</th>\n",
       "      <td>0.944785</td>\n",
       "      <td>0.860283</td>\n",
       "      <td>0.868304</td>\n",
       "      <td>0.977534</td>\n",
       "      <td>0.945010</td>\n",
       "      <td>0.943926</td>\n",
       "      <td>0.973347</td>\n",
       "      <td>0.949567</td>\n",
       "      <td>0.897248</td>\n",
       "      <td>0.941322</td>\n",
       "      <td>...</td>\n",
       "      <td>0.949525</td>\n",
       "      <td>0.909152</td>\n",
       "      <td>0.909724</td>\n",
       "      <td>0.948369</td>\n",
       "      <td>0.973974</td>\n",
       "      <td>0.980761</td>\n",
       "      <td>0.931734</td>\n",
       "      <td>0.973366</td>\n",
       "      <td>0.957347</td>\n",
       "      <td>0.967440</td>\n",
       "    </tr>\n",
       "    <tr>\n",
       "      <th>15.0</th>\n",
       "      <td>0.939883</td>\n",
       "      <td>0.848506</td>\n",
       "      <td>0.857145</td>\n",
       "      <td>0.975502</td>\n",
       "      <td>0.940127</td>\n",
       "      <td>0.938950</td>\n",
       "      <td>0.970942</td>\n",
       "      <td>0.945077</td>\n",
       "      <td>0.888381</td>\n",
       "      <td>0.936123</td>\n",
       "      <td>...</td>\n",
       "      <td>0.945031</td>\n",
       "      <td>0.901255</td>\n",
       "      <td>0.901874</td>\n",
       "      <td>0.943775</td>\n",
       "      <td>0.971624</td>\n",
       "      <td>0.979018</td>\n",
       "      <td>0.925719</td>\n",
       "      <td>0.970963</td>\n",
       "      <td>0.953532</td>\n",
       "      <td>0.964511</td>\n",
       "    </tr>\n",
       "    <tr>\n",
       "      <th>16.0</th>\n",
       "      <td>0.934978</td>\n",
       "      <td>0.836824</td>\n",
       "      <td>0.846067</td>\n",
       "      <td>0.973462</td>\n",
       "      <td>0.935241</td>\n",
       "      <td>0.933972</td>\n",
       "      <td>0.968528</td>\n",
       "      <td>0.940583</td>\n",
       "      <td>0.879552</td>\n",
       "      <td>0.930923</td>\n",
       "      <td>...</td>\n",
       "      <td>0.940533</td>\n",
       "      <td>0.893382</td>\n",
       "      <td>0.894047</td>\n",
       "      <td>0.939177</td>\n",
       "      <td>0.969266</td>\n",
       "      <td>0.977267</td>\n",
       "      <td>0.919708</td>\n",
       "      <td>0.968551</td>\n",
       "      <td>0.949711</td>\n",
       "      <td>0.961574</td>\n",
       "    </tr>\n",
       "    <tr>\n",
       "      <th>17.0</th>\n",
       "      <td>0.927644</td>\n",
       "      <td>0.819543</td>\n",
       "      <td>0.829662</td>\n",
       "      <td>0.970400</td>\n",
       "      <td>0.927935</td>\n",
       "      <td>0.926528</td>\n",
       "      <td>0.964907</td>\n",
       "      <td>0.933858</td>\n",
       "      <td>0.866428</td>\n",
       "      <td>0.923150</td>\n",
       "      <td>...</td>\n",
       "      <td>0.933803</td>\n",
       "      <td>0.881661</td>\n",
       "      <td>0.882395</td>\n",
       "      <td>0.932299</td>\n",
       "      <td>0.965729</td>\n",
       "      <td>0.974638</td>\n",
       "      <td>0.910735</td>\n",
       "      <td>0.964932</td>\n",
       "      <td>0.943988</td>\n",
       "      <td>0.957171</td>\n",
       "    </tr>\n",
       "    <tr>\n",
       "      <th>18.0</th>\n",
       "      <td>0.920239</td>\n",
       "      <td>0.802323</td>\n",
       "      <td>0.813294</td>\n",
       "      <td>0.967294</td>\n",
       "      <td>0.920559</td>\n",
       "      <td>0.919014</td>\n",
       "      <td>0.961236</td>\n",
       "      <td>0.927063</td>\n",
       "      <td>0.853273</td>\n",
       "      <td>0.915307</td>\n",
       "      <td>...</td>\n",
       "      <td>0.927003</td>\n",
       "      <td>0.869892</td>\n",
       "      <td>0.870693</td>\n",
       "      <td>0.925351</td>\n",
       "      <td>0.962142</td>\n",
       "      <td>0.971970</td>\n",
       "      <td>0.901694</td>\n",
       "      <td>0.961264</td>\n",
       "      <td>0.938199</td>\n",
       "      <td>0.952710</td>\n",
       "    </tr>\n",
       "    <tr>\n",
       "      <th>19.0</th>\n",
       "      <td>0.915280</td>\n",
       "      <td>0.790918</td>\n",
       "      <td>0.802441</td>\n",
       "      <td>0.965205</td>\n",
       "      <td>0.915619</td>\n",
       "      <td>0.913983</td>\n",
       "      <td>0.958769</td>\n",
       "      <td>0.922511</td>\n",
       "      <td>0.844517</td>\n",
       "      <td>0.910056</td>\n",
       "      <td>...</td>\n",
       "      <td>0.922447</td>\n",
       "      <td>0.862045</td>\n",
       "      <td>0.862891</td>\n",
       "      <td>0.920696</td>\n",
       "      <td>0.959731</td>\n",
       "      <td>0.970176</td>\n",
       "      <td>0.895649</td>\n",
       "      <td>0.958798</td>\n",
       "      <td>0.934317</td>\n",
       "      <td>0.949715</td>\n",
       "    </tr>\n",
       "    <tr>\n",
       "      <th>20.0</th>\n",
       "      <td>0.902910</td>\n",
       "      <td>0.762911</td>\n",
       "      <td>0.775749</td>\n",
       "      <td>0.959965</td>\n",
       "      <td>0.903296</td>\n",
       "      <td>0.901434</td>\n",
       "      <td>0.952584</td>\n",
       "      <td>0.911145</td>\n",
       "      <td>0.822864</td>\n",
       "      <td>0.896968</td>\n",
       "      <td>...</td>\n",
       "      <td>0.911072</td>\n",
       "      <td>0.842599</td>\n",
       "      <td>0.843552</td>\n",
       "      <td>0.909078</td>\n",
       "      <td>0.953687</td>\n",
       "      <td>0.965671</td>\n",
       "      <td>0.880605</td>\n",
       "      <td>0.952618</td>\n",
       "      <td>0.924611</td>\n",
       "      <td>0.942213</td>\n",
       "    </tr>\n",
       "    <tr>\n",
       "      <th>21.0</th>\n",
       "      <td>0.897956</td>\n",
       "      <td>0.751869</td>\n",
       "      <td>0.765209</td>\n",
       "      <td>0.957855</td>\n",
       "      <td>0.898360</td>\n",
       "      <td>0.896409</td>\n",
       "      <td>0.950094</td>\n",
       "      <td>0.906589</td>\n",
       "      <td>0.814266</td>\n",
       "      <td>0.891729</td>\n",
       "      <td>...</td>\n",
       "      <td>0.906512</td>\n",
       "      <td>0.834860</td>\n",
       "      <td>0.835856</td>\n",
       "      <td>0.904421</td>\n",
       "      <td>0.951254</td>\n",
       "      <td>0.963856</td>\n",
       "      <td>0.874594</td>\n",
       "      <td>0.950130</td>\n",
       "      <td>0.920715</td>\n",
       "      <td>0.939197</td>\n",
       "    </tr>\n",
       "    <tr>\n",
       "      <th>22.0</th>\n",
       "      <td>0.895478</td>\n",
       "      <td>0.746385</td>\n",
       "      <td>0.759970</td>\n",
       "      <td>0.956797</td>\n",
       "      <td>0.895892</td>\n",
       "      <td>0.893896</td>\n",
       "      <td>0.948847</td>\n",
       "      <td>0.904309</td>\n",
       "      <td>0.809983</td>\n",
       "      <td>0.889110</td>\n",
       "      <td>...</td>\n",
       "      <td>0.904231</td>\n",
       "      <td>0.831001</td>\n",
       "      <td>0.832018</td>\n",
       "      <td>0.902092</td>\n",
       "      <td>0.950034</td>\n",
       "      <td>0.962945</td>\n",
       "      <td>0.871591</td>\n",
       "      <td>0.948883</td>\n",
       "      <td>0.918765</td>\n",
       "      <td>0.937686</td>\n",
       "    </tr>\n",
       "    <tr>\n",
       "      <th>23.0</th>\n",
       "      <td>0.892994</td>\n",
       "      <td>0.740910</td>\n",
       "      <td>0.754738</td>\n",
       "      <td>0.955734</td>\n",
       "      <td>0.893417</td>\n",
       "      <td>0.891376</td>\n",
       "      <td>0.947593</td>\n",
       "      <td>0.902023</td>\n",
       "      <td>0.805698</td>\n",
       "      <td>0.886483</td>\n",
       "      <td>...</td>\n",
       "      <td>0.901943</td>\n",
       "      <td>0.827138</td>\n",
       "      <td>0.828176</td>\n",
       "      <td>0.899755</td>\n",
       "      <td>0.948809</td>\n",
       "      <td>0.962031</td>\n",
       "      <td>0.868581</td>\n",
       "      <td>0.947631</td>\n",
       "      <td>0.916807</td>\n",
       "      <td>0.936169</td>\n",
       "    </tr>\n",
       "    <tr>\n",
       "      <th>24.0</th>\n",
       "      <td>0.883110</td>\n",
       "      <td>0.719381</td>\n",
       "      <td>0.734141</td>\n",
       "      <td>0.951488</td>\n",
       "      <td>0.883570</td>\n",
       "      <td>0.881354</td>\n",
       "      <td>0.942591</td>\n",
       "      <td>0.892923</td>\n",
       "      <td>0.788761</td>\n",
       "      <td>0.876042</td>\n",
       "      <td>...</td>\n",
       "      <td>0.892836</td>\n",
       "      <td>0.811845</td>\n",
       "      <td>0.812963</td>\n",
       "      <td>0.890458</td>\n",
       "      <td>0.943919</td>\n",
       "      <td>0.958376</td>\n",
       "      <td>0.856630</td>\n",
       "      <td>0.942632</td>\n",
       "      <td>0.909010</td>\n",
       "      <td>0.930116</td>\n",
       "    </tr>\n",
       "    <tr>\n",
       "      <th>25.0</th>\n",
       "      <td>0.875711</td>\n",
       "      <td>0.703521</td>\n",
       "      <td>0.718943</td>\n",
       "      <td>0.948291</td>\n",
       "      <td>0.876198</td>\n",
       "      <td>0.873851</td>\n",
       "      <td>0.938826</td>\n",
       "      <td>0.886104</td>\n",
       "      <td>0.776194</td>\n",
       "      <td>0.868229</td>\n",
       "      <td>...</td>\n",
       "      <td>0.886011</td>\n",
       "      <td>0.800471</td>\n",
       "      <td>0.801649</td>\n",
       "      <td>0.883492</td>\n",
       "      <td>0.940239</td>\n",
       "      <td>0.955622</td>\n",
       "      <td>0.847704</td>\n",
       "      <td>0.938870</td>\n",
       "      <td>0.903159</td>\n",
       "      <td>0.925566</td>\n",
       "    </tr>\n",
       "    <tr>\n",
       "      <th>26.0</th>\n",
       "      <td>0.868213</td>\n",
       "      <td>0.687672</td>\n",
       "      <td>0.703735</td>\n",
       "      <td>0.945034</td>\n",
       "      <td>0.868726</td>\n",
       "      <td>0.866249</td>\n",
       "      <td>0.934994</td>\n",
       "      <td>0.879188</td>\n",
       "      <td>0.763555</td>\n",
       "      <td>0.860316</td>\n",
       "      <td>...</td>\n",
       "      <td>0.879091</td>\n",
       "      <td>0.789011</td>\n",
       "      <td>0.790246</td>\n",
       "      <td>0.876429</td>\n",
       "      <td>0.936492</td>\n",
       "      <td>0.952815</td>\n",
       "      <td>0.838677</td>\n",
       "      <td>0.935040</td>\n",
       "      <td>0.897218</td>\n",
       "      <td>0.920939</td>\n",
       "    </tr>\n",
       "    <tr>\n",
       "      <th>27.0</th>\n",
       "      <td>0.863219</td>\n",
       "      <td>0.677241</td>\n",
       "      <td>0.693713</td>\n",
       "      <td>0.942855</td>\n",
       "      <td>0.863750</td>\n",
       "      <td>0.861187</td>\n",
       "      <td>0.932432</td>\n",
       "      <td>0.874579</td>\n",
       "      <td>0.755193</td>\n",
       "      <td>0.855049</td>\n",
       "      <td>...</td>\n",
       "      <td>0.874478</td>\n",
       "      <td>0.781415</td>\n",
       "      <td>0.782689</td>\n",
       "      <td>0.871723</td>\n",
       "      <td>0.933988</td>\n",
       "      <td>0.950937</td>\n",
       "      <td>0.832675</td>\n",
       "      <td>0.932480</td>\n",
       "      <td>0.893255</td>\n",
       "      <td>0.917848</td>\n",
       "    </tr>\n",
       "    <tr>\n",
       "      <th>28.0</th>\n",
       "      <td>0.858226</td>\n",
       "      <td>0.666911</td>\n",
       "      <td>0.683781</td>\n",
       "      <td>0.940670</td>\n",
       "      <td>0.858775</td>\n",
       "      <td>0.856127</td>\n",
       "      <td>0.929863</td>\n",
       "      <td>0.869969</td>\n",
       "      <td>0.746877</td>\n",
       "      <td>0.849785</td>\n",
       "      <td>...</td>\n",
       "      <td>0.869865</td>\n",
       "      <td>0.773851</td>\n",
       "      <td>0.775162</td>\n",
       "      <td>0.867016</td>\n",
       "      <td>0.931475</td>\n",
       "      <td>0.949052</td>\n",
       "      <td>0.826684</td>\n",
       "      <td>0.929913</td>\n",
       "      <td>0.889287</td>\n",
       "      <td>0.914750</td>\n",
       "    </tr>\n",
       "    <tr>\n",
       "      <th>30.0</th>\n",
       "      <td>0.853213</td>\n",
       "      <td>0.656638</td>\n",
       "      <td>0.673893</td>\n",
       "      <td>0.938468</td>\n",
       "      <td>0.853780</td>\n",
       "      <td>0.851046</td>\n",
       "      <td>0.927275</td>\n",
       "      <td>0.865338</td>\n",
       "      <td>0.738571</td>\n",
       "      <td>0.844501</td>\n",
       "      <td>...</td>\n",
       "      <td>0.865230</td>\n",
       "      <td>0.766286</td>\n",
       "      <td>0.767634</td>\n",
       "      <td>0.862288</td>\n",
       "      <td>0.928945</td>\n",
       "      <td>0.947152</td>\n",
       "      <td>0.820676</td>\n",
       "      <td>0.927327</td>\n",
       "      <td>0.885298</td>\n",
       "      <td>0.911632</td>\n",
       "    </tr>\n",
       "    <tr>\n",
       "      <th>31.0</th>\n",
       "      <td>0.850700</td>\n",
       "      <td>0.651527</td>\n",
       "      <td>0.668969</td>\n",
       "      <td>0.937361</td>\n",
       "      <td>0.851276</td>\n",
       "      <td>0.848499</td>\n",
       "      <td>0.925976</td>\n",
       "      <td>0.863016</td>\n",
       "      <td>0.734424</td>\n",
       "      <td>0.841853</td>\n",
       "      <td>...</td>\n",
       "      <td>0.862906</td>\n",
       "      <td>0.762505</td>\n",
       "      <td>0.763872</td>\n",
       "      <td>0.859918</td>\n",
       "      <td>0.927674</td>\n",
       "      <td>0.946197</td>\n",
       "      <td>0.817668</td>\n",
       "      <td>0.926028</td>\n",
       "      <td>0.883296</td>\n",
       "      <td>0.910066</td>\n",
       "    </tr>\n",
       "    <tr>\n",
       "      <th>32.0</th>\n",
       "      <td>0.845672</td>\n",
       "      <td>0.641374</td>\n",
       "      <td>0.659183</td>\n",
       "      <td>0.935141</td>\n",
       "      <td>0.846266</td>\n",
       "      <td>0.843405</td>\n",
       "      <td>0.923369</td>\n",
       "      <td>0.858367</td>\n",
       "      <td>0.726161</td>\n",
       "      <td>0.836557</td>\n",
       "      <td>...</td>\n",
       "      <td>0.858255</td>\n",
       "      <td>0.754964</td>\n",
       "      <td>0.756366</td>\n",
       "      <td>0.855174</td>\n",
       "      <td>0.925124</td>\n",
       "      <td>0.944281</td>\n",
       "      <td>0.811657</td>\n",
       "      <td>0.923423</td>\n",
       "      <td>0.879287</td>\n",
       "      <td>0.906928</td>\n",
       "    </tr>\n",
       "    <tr>\n",
       "      <th>33.0</th>\n",
       "      <td>0.840638</td>\n",
       "      <td>0.631308</td>\n",
       "      <td>0.649471</td>\n",
       "      <td>0.932910</td>\n",
       "      <td>0.841249</td>\n",
       "      <td>0.838304</td>\n",
       "      <td>0.920750</td>\n",
       "      <td>0.853711</td>\n",
       "      <td>0.717932</td>\n",
       "      <td>0.831257</td>\n",
       "      <td>...</td>\n",
       "      <td>0.853595</td>\n",
       "      <td>0.747443</td>\n",
       "      <td>0.748882</td>\n",
       "      <td>0.850422</td>\n",
       "      <td>0.922564</td>\n",
       "      <td>0.942355</td>\n",
       "      <td>0.805647</td>\n",
       "      <td>0.920806</td>\n",
       "      <td>0.875267</td>\n",
       "      <td>0.903778</td>\n",
       "    </tr>\n",
       "    <tr>\n",
       "      <th>34.0</th>\n",
       "      <td>0.835564</td>\n",
       "      <td>0.621261</td>\n",
       "      <td>0.639767</td>\n",
       "      <td>0.930653</td>\n",
       "      <td>0.836193</td>\n",
       "      <td>0.833163</td>\n",
       "      <td>0.918103</td>\n",
       "      <td>0.849015</td>\n",
       "      <td>0.709682</td>\n",
       "      <td>0.825915</td>\n",
       "      <td>...</td>\n",
       "      <td>0.848895</td>\n",
       "      <td>0.739893</td>\n",
       "      <td>0.741366</td>\n",
       "      <td>0.845630</td>\n",
       "      <td>0.919974</td>\n",
       "      <td>0.940405</td>\n",
       "      <td>0.799597</td>\n",
       "      <td>0.918160</td>\n",
       "      <td>0.871210</td>\n",
       "      <td>0.900594</td>\n",
       "    </tr>\n",
       "    <tr>\n",
       "      <th>35.0</th>\n",
       "      <td>0.825421</td>\n",
       "      <td>0.601478</td>\n",
       "      <td>0.620632</td>\n",
       "      <td>0.926117</td>\n",
       "      <td>0.826084</td>\n",
       "      <td>0.822888</td>\n",
       "      <td>0.912785</td>\n",
       "      <td>0.839619</td>\n",
       "      <td>0.693327</td>\n",
       "      <td>0.815245</td>\n",
       "      <td>...</td>\n",
       "      <td>0.839493</td>\n",
       "      <td>0.724893</td>\n",
       "      <td>0.726435</td>\n",
       "      <td>0.836044</td>\n",
       "      <td>0.914772</td>\n",
       "      <td>0.936485</td>\n",
       "      <td>0.787531</td>\n",
       "      <td>0.912846</td>\n",
       "      <td>0.863082</td>\n",
       "      <td>0.894207</td>\n",
       "    </tr>\n",
       "    <tr>\n",
       "      <th>36.0</th>\n",
       "      <td>0.817800</td>\n",
       "      <td>0.586875</td>\n",
       "      <td>0.606483</td>\n",
       "      <td>0.922687</td>\n",
       "      <td>0.818489</td>\n",
       "      <td>0.815169</td>\n",
       "      <td>0.908767</td>\n",
       "      <td>0.832553</td>\n",
       "      <td>0.681158</td>\n",
       "      <td>0.807234</td>\n",
       "      <td>...</td>\n",
       "      <td>0.832422</td>\n",
       "      <td>0.713705</td>\n",
       "      <td>0.715297</td>\n",
       "      <td>0.828838</td>\n",
       "      <td>0.910840</td>\n",
       "      <td>0.933519</td>\n",
       "      <td>0.778490</td>\n",
       "      <td>0.908831</td>\n",
       "      <td>0.856959</td>\n",
       "      <td>0.889386</td>\n",
       "    </tr>\n",
       "    <tr>\n",
       "      <th>37.0</th>\n",
       "      <td>0.807650</td>\n",
       "      <td>0.567773</td>\n",
       "      <td>0.587941</td>\n",
       "      <td>0.918089</td>\n",
       "      <td>0.808372</td>\n",
       "      <td>0.804891</td>\n",
       "      <td>0.903384</td>\n",
       "      <td>0.823134</td>\n",
       "      <td>0.665111</td>\n",
       "      <td>0.796572</td>\n",
       "      <td>...</td>\n",
       "      <td>0.822996</td>\n",
       "      <td>0.698914</td>\n",
       "      <td>0.700570</td>\n",
       "      <td>0.819233</td>\n",
       "      <td>0.905574</td>\n",
       "      <td>0.929540</td>\n",
       "      <td>0.766480</td>\n",
       "      <td>0.903452</td>\n",
       "      <td>0.848785</td>\n",
       "      <td>0.882936</td>\n",
       "    </tr>\n",
       "    <tr>\n",
       "      <th>38.0</th>\n",
       "      <td>0.805099</td>\n",
       "      <td>0.563033</td>\n",
       "      <td>0.583333</td>\n",
       "      <td>0.916927</td>\n",
       "      <td>0.805829</td>\n",
       "      <td>0.802308</td>\n",
       "      <td>0.902026</td>\n",
       "      <td>0.820764</td>\n",
       "      <td>0.661106</td>\n",
       "      <td>0.793893</td>\n",
       "      <td>...</td>\n",
       "      <td>0.820624</td>\n",
       "      <td>0.695215</td>\n",
       "      <td>0.696887</td>\n",
       "      <td>0.816817</td>\n",
       "      <td>0.904245</td>\n",
       "      <td>0.928534</td>\n",
       "      <td>0.763466</td>\n",
       "      <td>0.902094</td>\n",
       "      <td>0.846726</td>\n",
       "      <td>0.881309</td>\n",
       "    </tr>\n",
       "    <tr>\n",
       "      <th>39.0</th>\n",
       "      <td>0.799999</td>\n",
       "      <td>0.553632</td>\n",
       "      <td>0.574190</td>\n",
       "      <td>0.914599</td>\n",
       "      <td>0.800746</td>\n",
       "      <td>0.797144</td>\n",
       "      <td>0.899304</td>\n",
       "      <td>0.816026</td>\n",
       "      <td>0.653135</td>\n",
       "      <td>0.788540</td>\n",
       "      <td>...</td>\n",
       "      <td>0.815883</td>\n",
       "      <td>0.687847</td>\n",
       "      <td>0.689549</td>\n",
       "      <td>0.811987</td>\n",
       "      <td>0.901581</td>\n",
       "      <td>0.926518</td>\n",
       "      <td>0.757450</td>\n",
       "      <td>0.899374</td>\n",
       "      <td>0.842607</td>\n",
       "      <td>0.878051</td>\n",
       "    </tr>\n",
       "    <tr>\n",
       "      <th>40.0</th>\n",
       "      <td>0.789848</td>\n",
       "      <td>0.535214</td>\n",
       "      <td>0.556247</td>\n",
       "      <td>0.909939</td>\n",
       "      <td>0.790629</td>\n",
       "      <td>0.786869</td>\n",
       "      <td>0.893858</td>\n",
       "      <td>0.806587</td>\n",
       "      <td>0.637407</td>\n",
       "      <td>0.777893</td>\n",
       "      <td>...</td>\n",
       "      <td>0.806438</td>\n",
       "      <td>0.673275</td>\n",
       "      <td>0.675036</td>\n",
       "      <td>0.802367</td>\n",
       "      <td>0.896251</td>\n",
       "      <td>0.922481</td>\n",
       "      <td>0.745505</td>\n",
       "      <td>0.893932</td>\n",
       "      <td>0.834390</td>\n",
       "      <td>0.871541</td>\n",
       "    </tr>\n",
       "    <tr>\n",
       "      <th>42.0</th>\n",
       "      <td>0.784733</td>\n",
       "      <td>0.526079</td>\n",
       "      <td>0.547334</td>\n",
       "      <td>0.907577</td>\n",
       "      <td>0.785530</td>\n",
       "      <td>0.781692</td>\n",
       "      <td>0.891101</td>\n",
       "      <td>0.801827</td>\n",
       "      <td>0.629550</td>\n",
       "      <td>0.772531</td>\n",
       "      <td>...</td>\n",
       "      <td>0.801674</td>\n",
       "      <td>0.665979</td>\n",
       "      <td>0.667770</td>\n",
       "      <td>0.797516</td>\n",
       "      <td>0.893552</td>\n",
       "      <td>0.920433</td>\n",
       "      <td>0.739499</td>\n",
       "      <td>0.891176</td>\n",
       "      <td>0.830240</td>\n",
       "      <td>0.868247</td>\n",
       "    </tr>\n",
       "    <tr>\n",
       "      <th>43.0</th>\n",
       "      <td>0.774567</td>\n",
       "      <td>0.508214</td>\n",
       "      <td>0.529874</td>\n",
       "      <td>0.902855</td>\n",
       "      <td>0.775396</td>\n",
       "      <td>0.771404</td>\n",
       "      <td>0.885591</td>\n",
       "      <td>0.792357</td>\n",
       "      <td>0.614073</td>\n",
       "      <td>0.761880</td>\n",
       "      <td>...</td>\n",
       "      <td>0.792198</td>\n",
       "      <td>0.651575</td>\n",
       "      <td>0.653421</td>\n",
       "      <td>0.787869</td>\n",
       "      <td>0.888158</td>\n",
       "      <td>0.916337</td>\n",
       "      <td>0.727592</td>\n",
       "      <td>0.885670</td>\n",
       "      <td>0.821973</td>\n",
       "      <td>0.861674</td>\n",
       "    </tr>\n",
       "    <tr>\n",
       "      <th>44.0</th>\n",
       "      <td>0.769460</td>\n",
       "      <td>0.499383</td>\n",
       "      <td>0.521230</td>\n",
       "      <td>0.900469</td>\n",
       "      <td>0.770304</td>\n",
       "      <td>0.766237</td>\n",
       "      <td>0.882809</td>\n",
       "      <td>0.787596</td>\n",
       "      <td>0.606367</td>\n",
       "      <td>0.756533</td>\n",
       "      <td>...</td>\n",
       "      <td>0.787434</td>\n",
       "      <td>0.644387</td>\n",
       "      <td>0.646260</td>\n",
       "      <td>0.783019</td>\n",
       "      <td>0.885435</td>\n",
       "      <td>0.914266</td>\n",
       "      <td>0.721624</td>\n",
       "      <td>0.882890</td>\n",
       "      <td>0.817810</td>\n",
       "      <td>0.858358</td>\n",
       "    </tr>\n",
       "    <tr>\n",
       "      <th>45.0</th>\n",
       "      <td>0.764349</td>\n",
       "      <td>0.490641</td>\n",
       "      <td>0.512664</td>\n",
       "      <td>0.898071</td>\n",
       "      <td>0.765209</td>\n",
       "      <td>0.761066</td>\n",
       "      <td>0.880015</td>\n",
       "      <td>0.782827</td>\n",
       "      <td>0.598701</td>\n",
       "      <td>0.751184</td>\n",
       "      <td>...</td>\n",
       "      <td>0.782662</td>\n",
       "      <td>0.637225</td>\n",
       "      <td>0.639125</td>\n",
       "      <td>0.778163</td>\n",
       "      <td>0.882699</td>\n",
       "      <td>0.912184</td>\n",
       "      <td>0.715661</td>\n",
       "      <td>0.880098</td>\n",
       "      <td>0.813638</td>\n",
       "      <td>0.855030</td>\n",
       "    </tr>\n",
       "    <tr>\n",
       "      <th>46.0</th>\n",
       "      <td>0.754116</td>\n",
       "      <td>0.473429</td>\n",
       "      <td>0.495770</td>\n",
       "      <td>0.893242</td>\n",
       "      <td>0.755007</td>\n",
       "      <td>0.750715</td>\n",
       "      <td>0.874391</td>\n",
       "      <td>0.773273</td>\n",
       "      <td>0.583494</td>\n",
       "      <td>0.740482</td>\n",
       "      <td>...</td>\n",
       "      <td>0.773102</td>\n",
       "      <td>0.622985</td>\n",
       "      <td>0.624935</td>\n",
       "      <td>0.768435</td>\n",
       "      <td>0.877192</td>\n",
       "      <td>0.907989</td>\n",
       "      <td>0.703753</td>\n",
       "      <td>0.874478</td>\n",
       "      <td>0.805265</td>\n",
       "      <td>0.848340</td>\n",
       "    </tr>\n",
       "    <tr>\n",
       "      <th>47.0</th>\n",
       "      <td>0.751552</td>\n",
       "      <td>0.469176</td>\n",
       "      <td>0.491589</td>\n",
       "      <td>0.892026</td>\n",
       "      <td>0.752451</td>\n",
       "      <td>0.748121</td>\n",
       "      <td>0.872976</td>\n",
       "      <td>0.770877</td>\n",
       "      <td>0.579712</td>\n",
       "      <td>0.737801</td>\n",
       "      <td>...</td>\n",
       "      <td>0.770705</td>\n",
       "      <td>0.619437</td>\n",
       "      <td>0.621399</td>\n",
       "      <td>0.765997</td>\n",
       "      <td>0.875806</td>\n",
       "      <td>0.906932</td>\n",
       "      <td>0.700776</td>\n",
       "      <td>0.873063</td>\n",
       "      <td>0.803163</td>\n",
       "      <td>0.846658</td>\n",
       "    </tr>\n",
       "    <tr>\n",
       "      <th>48.0</th>\n",
       "      <td>0.746427</td>\n",
       "      <td>0.460745</td>\n",
       "      <td>0.483296</td>\n",
       "      <td>0.889587</td>\n",
       "      <td>0.747341</td>\n",
       "      <td>0.742938</td>\n",
       "      <td>0.870139</td>\n",
       "      <td>0.766086</td>\n",
       "      <td>0.572189</td>\n",
       "      <td>0.732446</td>\n",
       "      <td>...</td>\n",
       "      <td>0.765910</td>\n",
       "      <td>0.612370</td>\n",
       "      <td>0.614356</td>\n",
       "      <td>0.761120</td>\n",
       "      <td>0.873028</td>\n",
       "      <td>0.904812</td>\n",
       "      <td>0.694831</td>\n",
       "      <td>0.870229</td>\n",
       "      <td>0.798956</td>\n",
       "      <td>0.843288</td>\n",
       "    </tr>\n",
       "    <tr>\n",
       "      <th>49.0</th>\n",
       "      <td>0.733641</td>\n",
       "      <td>0.440128</td>\n",
       "      <td>0.462975</td>\n",
       "      <td>0.883460</td>\n",
       "      <td>0.734592</td>\n",
       "      <td>0.730010</td>\n",
       "      <td>0.863018</td>\n",
       "      <td>0.754121</td>\n",
       "      <td>0.553625</td>\n",
       "      <td>0.719096</td>\n",
       "      <td>...</td>\n",
       "      <td>0.753938</td>\n",
       "      <td>0.594882</td>\n",
       "      <td>0.596926</td>\n",
       "      <td>0.748945</td>\n",
       "      <td>0.866053</td>\n",
       "      <td>0.899481</td>\n",
       "      <td>0.680046</td>\n",
       "      <td>0.863112</td>\n",
       "      <td>0.788432</td>\n",
       "      <td>0.834839</td>\n",
       "    </tr>\n",
       "    <tr>\n",
       "      <th>50.0</th>\n",
       "      <td>0.725969</td>\n",
       "      <td>0.428037</td>\n",
       "      <td>0.451031</td>\n",
       "      <td>0.879752</td>\n",
       "      <td>0.726942</td>\n",
       "      <td>0.722254</td>\n",
       "      <td>0.858714</td>\n",
       "      <td>0.746932</td>\n",
       "      <td>0.542625</td>\n",
       "      <td>0.711092</td>\n",
       "      <td>...</td>\n",
       "      <td>0.746745</td>\n",
       "      <td>0.584487</td>\n",
       "      <td>0.586564</td>\n",
       "      <td>0.741632</td>\n",
       "      <td>0.861836</td>\n",
       "      <td>0.896252</td>\n",
       "      <td>0.671203</td>\n",
       "      <td>0.858810</td>\n",
       "      <td>0.782096</td>\n",
       "      <td>0.829740</td>\n",
       "    </tr>\n",
       "    <tr>\n",
       "      <th>52.0</th>\n",
       "      <td>0.715699</td>\n",
       "      <td>0.412181</td>\n",
       "      <td>0.435335</td>\n",
       "      <td>0.874752</td>\n",
       "      <td>0.716702</td>\n",
       "      <td>0.711875</td>\n",
       "      <td>0.852915</td>\n",
       "      <td>0.737300</td>\n",
       "      <td>0.528067</td>\n",
       "      <td>0.700388</td>\n",
       "      <td>...</td>\n",
       "      <td>0.737106</td>\n",
       "      <td>0.570689</td>\n",
       "      <td>0.572807</td>\n",
       "      <td>0.731835</td>\n",
       "      <td>0.856154</td>\n",
       "      <td>0.891896</td>\n",
       "      <td>0.659404</td>\n",
       "      <td>0.853014</td>\n",
       "      <td>0.773592</td>\n",
       "      <td>0.822879</td>\n",
       "    </tr>\n",
       "  </tbody>\n",
       "</table>\n",
       "<p>50 rows × 432 columns</p>\n",
       "</div>"
      ],
      "text/plain": [
       "               0         1         2         3         4         5    \\\n",
       "event_at                                                               \n",
       "0.0       1.000000  1.000000  1.000000  1.000000  1.000000  1.000000   \n",
       "1.0       0.997616  0.993695  0.994083  0.999045  0.997626  0.997578   \n",
       "2.0       0.995230  0.987411  0.988183  0.998089  0.995250  0.995154   \n",
       "3.0       0.992848  0.981162  0.982314  0.997133  0.992878  0.992734   \n",
       "4.0       0.990468  0.974941  0.976468  0.996176  0.990507  0.990316   \n",
       "5.0       0.988085  0.968739  0.970639  0.995216  0.988135  0.987895   \n",
       "6.0       0.985699  0.962552  0.964820  0.994254  0.985758  0.985471   \n",
       "7.0       0.983305  0.956370  0.959004  0.993287  0.983374  0.983039   \n",
       "8.0       0.971402  0.926001  0.930402  0.988460  0.971520  0.970950   \n",
       "9.0       0.966614  0.913958  0.919043  0.986508  0.966752  0.966089   \n",
       "10.0      0.964223  0.907978  0.913399  0.985531  0.964370  0.963660   \n",
       "11.0      0.959411  0.896023  0.902109  0.983560  0.959577  0.958774   \n",
       "12.0      0.954529  0.883991  0.890739  0.981555  0.954715  0.953817   \n",
       "13.0      0.952091  0.878023  0.885094  0.980551  0.952287  0.951343   \n",
       "14.0      0.944785  0.860283  0.868304  0.977534  0.945010  0.943926   \n",
       "15.0      0.939883  0.848506  0.857145  0.975502  0.940127  0.938950   \n",
       "16.0      0.934978  0.836824  0.846067  0.973462  0.935241  0.933972   \n",
       "17.0      0.927644  0.819543  0.829662  0.970400  0.927935  0.926528   \n",
       "18.0      0.920239  0.802323  0.813294  0.967294  0.920559  0.919014   \n",
       "19.0      0.915280  0.790918  0.802441  0.965205  0.915619  0.913983   \n",
       "20.0      0.902910  0.762911  0.775749  0.959965  0.903296  0.901434   \n",
       "21.0      0.897956  0.751869  0.765209  0.957855  0.898360  0.896409   \n",
       "22.0      0.895478  0.746385  0.759970  0.956797  0.895892  0.893896   \n",
       "23.0      0.892994  0.740910  0.754738  0.955734  0.893417  0.891376   \n",
       "24.0      0.883110  0.719381  0.734141  0.951488  0.883570  0.881354   \n",
       "25.0      0.875711  0.703521  0.718943  0.948291  0.876198  0.873851   \n",
       "26.0      0.868213  0.687672  0.703735  0.945034  0.868726  0.866249   \n",
       "27.0      0.863219  0.677241  0.693713  0.942855  0.863750  0.861187   \n",
       "28.0      0.858226  0.666911  0.683781  0.940670  0.858775  0.856127   \n",
       "30.0      0.853213  0.656638  0.673893  0.938468  0.853780  0.851046   \n",
       "31.0      0.850700  0.651527  0.668969  0.937361  0.851276  0.848499   \n",
       "32.0      0.845672  0.641374  0.659183  0.935141  0.846266  0.843405   \n",
       "33.0      0.840638  0.631308  0.649471  0.932910  0.841249  0.838304   \n",
       "34.0      0.835564  0.621261  0.639767  0.930653  0.836193  0.833163   \n",
       "35.0      0.825421  0.601478  0.620632  0.926117  0.826084  0.822888   \n",
       "36.0      0.817800  0.586875  0.606483  0.922687  0.818489  0.815169   \n",
       "37.0      0.807650  0.567773  0.587941  0.918089  0.808372  0.804891   \n",
       "38.0      0.805099  0.563033  0.583333  0.916927  0.805829  0.802308   \n",
       "39.0      0.799999  0.553632  0.574190  0.914599  0.800746  0.797144   \n",
       "40.0      0.789848  0.535214  0.556247  0.909939  0.790629  0.786869   \n",
       "42.0      0.784733  0.526079  0.547334  0.907577  0.785530  0.781692   \n",
       "43.0      0.774567  0.508214  0.529874  0.902855  0.775396  0.771404   \n",
       "44.0      0.769460  0.499383  0.521230  0.900469  0.770304  0.766237   \n",
       "45.0      0.764349  0.490641  0.512664  0.898071  0.765209  0.761066   \n",
       "46.0      0.754116  0.473429  0.495770  0.893242  0.755007  0.750715   \n",
       "47.0      0.751552  0.469176  0.491589  0.892026  0.752451  0.748121   \n",
       "48.0      0.746427  0.460745  0.483296  0.889587  0.747341  0.742938   \n",
       "49.0      0.733641  0.440128  0.462975  0.883460  0.734592  0.730010   \n",
       "50.0      0.725969  0.428037  0.451031  0.879752  0.726942  0.722254   \n",
       "52.0      0.715699  0.412181  0.435335  0.874752  0.716702  0.711875   \n",
       "\n",
       "               6         7         8         9      ...          422  \\\n",
       "event_at                                            ...                \n",
       "0.0       1.000000  1.000000  1.000000  1.000000    ...     1.000000   \n",
       "1.0       0.998865  0.997827  0.995453  0.997462    ...     0.997826   \n",
       "2.0       0.997728  0.995653  0.990914  0.994922    ...     0.995649   \n",
       "3.0       0.996592  0.993482  0.986392  0.992388    ...     0.993476   \n",
       "4.0       0.995455  0.991311  0.981882  0.989855    ...     0.991304   \n",
       "5.0       0.994315  0.989139  0.977378  0.987320    ...     0.989129   \n",
       "6.0       0.993172  0.986961  0.972877  0.984781    ...     0.986950   \n",
       "7.0       0.992024  0.984777  0.968371  0.982235    ...     0.984764   \n",
       "8.0       0.986294  0.973910  0.946118  0.969581    ...     0.973888   \n",
       "9.0       0.983979  0.969536  0.937236  0.964495    ...     0.969510   \n",
       "10.0      0.982821  0.967350  0.932815  0.961954    ...     0.967323   \n",
       "11.0      0.980485  0.962951  0.923949  0.956844    ...     0.962920   \n",
       "12.0      0.978109  0.958486  0.914994  0.951661    ...     0.958451   \n",
       "13.0      0.976920  0.956255  0.910539  0.949074    ...     0.956218   \n",
       "14.0      0.973347  0.949567  0.897248  0.941322    ...     0.949525   \n",
       "15.0      0.970942  0.945077  0.888381  0.936123    ...     0.945031   \n",
       "16.0      0.968528  0.940583  0.879552  0.930923    ...     0.940533   \n",
       "17.0      0.964907  0.933858  0.866428  0.923150    ...     0.933803   \n",
       "18.0      0.961236  0.927063  0.853273  0.915307    ...     0.927003   \n",
       "19.0      0.958769  0.922511  0.844517  0.910056    ...     0.922447   \n",
       "20.0      0.952584  0.911145  0.822864  0.896968    ...     0.911072   \n",
       "21.0      0.950094  0.906589  0.814266  0.891729    ...     0.906512   \n",
       "22.0      0.948847  0.904309  0.809983  0.889110    ...     0.904231   \n",
       "23.0      0.947593  0.902023  0.805698  0.886483    ...     0.901943   \n",
       "24.0      0.942591  0.892923  0.788761  0.876042    ...     0.892836   \n",
       "25.0      0.938826  0.886104  0.776194  0.868229    ...     0.886011   \n",
       "26.0      0.934994  0.879188  0.763555  0.860316    ...     0.879091   \n",
       "27.0      0.932432  0.874579  0.755193  0.855049    ...     0.874478   \n",
       "28.0      0.929863  0.869969  0.746877  0.849785    ...     0.869865   \n",
       "30.0      0.927275  0.865338  0.738571  0.844501    ...     0.865230   \n",
       "31.0      0.925976  0.863016  0.734424  0.841853    ...     0.862906   \n",
       "32.0      0.923369  0.858367  0.726161  0.836557    ...     0.858255   \n",
       "33.0      0.920750  0.853711  0.717932  0.831257    ...     0.853595   \n",
       "34.0      0.918103  0.849015  0.709682  0.825915    ...     0.848895   \n",
       "35.0      0.912785  0.839619  0.693327  0.815245    ...     0.839493   \n",
       "36.0      0.908767  0.832553  0.681158  0.807234    ...     0.832422   \n",
       "37.0      0.903384  0.823134  0.665111  0.796572    ...     0.822996   \n",
       "38.0      0.902026  0.820764  0.661106  0.793893    ...     0.820624   \n",
       "39.0      0.899304  0.816026  0.653135  0.788540    ...     0.815883   \n",
       "40.0      0.893858  0.806587  0.637407  0.777893    ...     0.806438   \n",
       "42.0      0.891101  0.801827  0.629550  0.772531    ...     0.801674   \n",
       "43.0      0.885591  0.792357  0.614073  0.761880    ...     0.792198   \n",
       "44.0      0.882809  0.787596  0.606367  0.756533    ...     0.787434   \n",
       "45.0      0.880015  0.782827  0.598701  0.751184    ...     0.782662   \n",
       "46.0      0.874391  0.773273  0.583494  0.740482    ...     0.773102   \n",
       "47.0      0.872976  0.770877  0.579712  0.737801    ...     0.770705   \n",
       "48.0      0.870139  0.766086  0.572189  0.732446    ...     0.765910   \n",
       "49.0      0.863018  0.754121  0.553625  0.719096    ...     0.753938   \n",
       "50.0      0.858714  0.746932  0.542625  0.711092    ...     0.746745   \n",
       "52.0      0.852915  0.737300  0.528067  0.700388    ...     0.737106   \n",
       "\n",
       "               423       424       425       426       427       428  \\\n",
       "event_at                                                               \n",
       "0.0       1.000000  1.000000  1.000000  1.000000  1.000000  1.000000   \n",
       "1.0       0.996005  0.996031  0.997774  0.998892  0.999184  0.997033   \n",
       "2.0       0.992014  0.992067  0.995547  0.997782  0.998366  0.994065   \n",
       "3.0       0.988037  0.988115  0.993324  0.996673  0.997548  0.991105   \n",
       "4.0       0.984067  0.984171  0.991100  0.995563  0.996729  0.988147   \n",
       "5.0       0.980101  0.980231  0.988875  0.994450  0.995909  0.985189   \n",
       "6.0       0.976134  0.976290  0.986645  0.993334  0.995085  0.982227   \n",
       "7.0       0.972162  0.972343  0.984409  0.992213  0.994258  0.979258   \n",
       "8.0       0.952510  0.952816  0.973282  0.986619  0.990125  0.964523   \n",
       "9.0       0.944651  0.945006  0.968804  0.984358  0.988453  0.958609   \n",
       "10.0      0.940735  0.941114  0.966567  0.983226  0.987616  0.955657   \n",
       "11.0      0.932876  0.933304  0.962064  0.980945  0.985928  0.949724   \n",
       "12.0      0.924929  0.925406  0.957494  0.978624  0.984209  0.943711   \n",
       "13.0      0.920972  0.921473  0.955212  0.977463  0.983349  0.940712   \n",
       "14.0      0.909152  0.909724  0.948369  0.973974  0.980761  0.931734   \n",
       "15.0      0.901255  0.901874  0.943775  0.971624  0.979018  0.925719   \n",
       "16.0      0.893382  0.894047  0.939177  0.969266  0.977267  0.919708   \n",
       "17.0      0.881661  0.882395  0.932299  0.965729  0.974638  0.910735   \n",
       "18.0      0.869892  0.870693  0.925351  0.962142  0.971970  0.901694   \n",
       "19.0      0.862045  0.862891  0.920696  0.959731  0.970176  0.895649   \n",
       "20.0      0.842599  0.843552  0.909078  0.953687  0.965671  0.880605   \n",
       "21.0      0.834860  0.835856  0.904421  0.951254  0.963856  0.874594   \n",
       "22.0      0.831001  0.832018  0.902092  0.950034  0.962945  0.871591   \n",
       "23.0      0.827138  0.828176  0.899755  0.948809  0.962031  0.868581   \n",
       "24.0      0.811845  0.812963  0.890458  0.943919  0.958376  0.856630   \n",
       "25.0      0.800471  0.801649  0.883492  0.940239  0.955622  0.847704   \n",
       "26.0      0.789011  0.790246  0.876429  0.936492  0.952815  0.838677   \n",
       "27.0      0.781415  0.782689  0.871723  0.933988  0.950937  0.832675   \n",
       "28.0      0.773851  0.775162  0.867016  0.931475  0.949052  0.826684   \n",
       "30.0      0.766286  0.767634  0.862288  0.928945  0.947152  0.820676   \n",
       "31.0      0.762505  0.763872  0.859918  0.927674  0.946197  0.817668   \n",
       "32.0      0.754964  0.756366  0.855174  0.925124  0.944281  0.811657   \n",
       "33.0      0.747443  0.748882  0.850422  0.922564  0.942355  0.805647   \n",
       "34.0      0.739893  0.741366  0.845630  0.919974  0.940405  0.799597   \n",
       "35.0      0.724893  0.726435  0.836044  0.914772  0.936485  0.787531   \n",
       "36.0      0.713705  0.715297  0.828838  0.910840  0.933519  0.778490   \n",
       "37.0      0.698914  0.700570  0.819233  0.905574  0.929540  0.766480   \n",
       "38.0      0.695215  0.696887  0.816817  0.904245  0.928534  0.763466   \n",
       "39.0      0.687847  0.689549  0.811987  0.901581  0.926518  0.757450   \n",
       "40.0      0.673275  0.675036  0.802367  0.896251  0.922481  0.745505   \n",
       "42.0      0.665979  0.667770  0.797516  0.893552  0.920433  0.739499   \n",
       "43.0      0.651575  0.653421  0.787869  0.888158  0.916337  0.727592   \n",
       "44.0      0.644387  0.646260  0.783019  0.885435  0.914266  0.721624   \n",
       "45.0      0.637225  0.639125  0.778163  0.882699  0.912184  0.715661   \n",
       "46.0      0.622985  0.624935  0.768435  0.877192  0.907989  0.703753   \n",
       "47.0      0.619437  0.621399  0.765997  0.875806  0.906932  0.700776   \n",
       "48.0      0.612370  0.614356  0.761120  0.873028  0.904812  0.694831   \n",
       "49.0      0.594882  0.596926  0.748945  0.866053  0.899481  0.680046   \n",
       "50.0      0.584487  0.586564  0.741632  0.861836  0.896252  0.671203   \n",
       "52.0      0.570689  0.572807  0.731835  0.856154  0.891896  0.659404   \n",
       "\n",
       "               429       430       431  \n",
       "event_at                                \n",
       "0.0       1.000000  1.000000  1.000000  \n",
       "1.0       0.998866  0.998170  0.998610  \n",
       "2.0       0.997730  0.996337  0.997217  \n",
       "3.0       0.996595  0.994507  0.995826  \n",
       "4.0       0.995458  0.992676  0.994433  \n",
       "5.0       0.994319  0.990843  0.993039  \n",
       "6.0       0.993177  0.989006  0.991640  \n",
       "7.0       0.992030  0.987162  0.990236  \n",
       "8.0       0.986304  0.977978  0.983232  \n",
       "9.0       0.983991  0.974277  0.980405  \n",
       "10.0      0.982833  0.972426  0.978990  \n",
       "11.0      0.980499  0.968700  0.976140  \n",
       "12.0      0.978124  0.964915  0.973242  \n",
       "13.0      0.976937  0.963023  0.971793  \n",
       "14.0      0.973366  0.957347  0.967440  \n",
       "15.0      0.970963  0.953532  0.964511  \n",
       "16.0      0.968551  0.949711  0.961574  \n",
       "17.0      0.964932  0.943988  0.957171  \n",
       "18.0      0.961264  0.938199  0.952710  \n",
       "19.0      0.958798  0.934317  0.949715  \n",
       "20.0      0.952618  0.924611  0.942213  \n",
       "21.0      0.950130  0.920715  0.939197  \n",
       "22.0      0.948883  0.918765  0.937686  \n",
       "23.0      0.947631  0.916807  0.936169  \n",
       "24.0      0.942632  0.909010  0.930116  \n",
       "25.0      0.938870  0.903159  0.925566  \n",
       "26.0      0.935040  0.897218  0.920939  \n",
       "27.0      0.932480  0.893255  0.917848  \n",
       "28.0      0.929913  0.889287  0.914750  \n",
       "30.0      0.927327  0.885298  0.911632  \n",
       "31.0      0.926028  0.883296  0.910066  \n",
       "32.0      0.923423  0.879287  0.906928  \n",
       "33.0      0.920806  0.875267  0.903778  \n",
       "34.0      0.918160  0.871210  0.900594  \n",
       "35.0      0.912846  0.863082  0.894207  \n",
       "36.0      0.908831  0.856959  0.889386  \n",
       "37.0      0.903452  0.848785  0.882936  \n",
       "38.0      0.902094  0.846726  0.881309  \n",
       "39.0      0.899374  0.842607  0.878051  \n",
       "40.0      0.893932  0.834390  0.871541  \n",
       "42.0      0.891176  0.830240  0.868247  \n",
       "43.0      0.885670  0.821973  0.861674  \n",
       "44.0      0.882890  0.817810  0.858358  \n",
       "45.0      0.880098  0.813638  0.855030  \n",
       "46.0      0.874478  0.805265  0.848340  \n",
       "47.0      0.873063  0.803163  0.846658  \n",
       "48.0      0.870229  0.798956  0.843288  \n",
       "49.0      0.863112  0.788432  0.834839  \n",
       "50.0      0.858810  0.782096  0.829740  \n",
       "52.0      0.853014  0.773592  0.822879  \n",
       "\n",
       "[50 rows x 432 columns]"
      ]
     },
     "execution_count": 201,
     "metadata": {},
     "output_type": "execute_result"
    }
   ],
   "source": [
    "#X = rossi_dataset.drop([\"week\", \"arrest\"], axis=1)\n",
    "#cph.predict_partial_hazard(X)\n",
    "#cph.predict_survival_function(X)"
   ]
  },
  {
   "cell_type": "code",
   "execution_count": null,
   "metadata": {
    "collapsed": true
   },
   "outputs": [],
   "source": []
  },
  {
   "cell_type": "code",
   "execution_count": null,
   "metadata": {
    "collapsed": true
   },
   "outputs": [],
   "source": []
  },
  {
   "cell_type": "code",
   "execution_count": null,
   "metadata": {
    "collapsed": true
   },
   "outputs": [],
   "source": []
  },
  {
   "cell_type": "code",
   "execution_count": null,
   "metadata": {
    "collapsed": true
   },
   "outputs": [],
   "source": []
  },
  {
   "cell_type": "code",
   "execution_count": null,
   "metadata": {
    "collapsed": true
   },
   "outputs": [],
   "source": []
  },
  {
   "cell_type": "code",
   "execution_count": null,
   "metadata": {
    "collapsed": true
   },
   "outputs": [],
   "source": []
  },
  {
   "cell_type": "code",
   "execution_count": null,
   "metadata": {
    "collapsed": true
   },
   "outputs": [],
   "source": []
  },
  {
   "cell_type": "code",
   "execution_count": null,
   "metadata": {
    "collapsed": true
   },
   "outputs": [],
   "source": []
  },
  {
   "cell_type": "code",
   "execution_count": null,
   "metadata": {
    "collapsed": true
   },
   "outputs": [],
   "source": []
  },
  {
   "cell_type": "code",
   "execution_count": null,
   "metadata": {
    "collapsed": true
   },
   "outputs": [],
   "source": []
  },
  {
   "cell_type": "code",
   "execution_count": null,
   "metadata": {
    "collapsed": true
   },
   "outputs": [],
   "source": []
  },
  {
   "cell_type": "code",
   "execution_count": null,
   "metadata": {
    "collapsed": true
   },
   "outputs": [],
   "source": []
  },
  {
   "cell_type": "code",
   "execution_count": null,
   "metadata": {
    "collapsed": true
   },
   "outputs": [],
   "source": []
  }
 ],
 "metadata": {
  "kernelspec": {
   "display_name": "Python 3",
   "language": "python",
   "name": "python3"
  },
  "language_info": {
   "codemirror_mode": {
    "name": "ipython",
    "version": 3
   },
   "file_extension": ".py",
   "mimetype": "text/x-python",
   "name": "python",
   "nbconvert_exporter": "python",
   "pygments_lexer": "ipython3",
   "version": "3.5.6"
  }
 },
 "nbformat": 4,
 "nbformat_minor": 2
}
