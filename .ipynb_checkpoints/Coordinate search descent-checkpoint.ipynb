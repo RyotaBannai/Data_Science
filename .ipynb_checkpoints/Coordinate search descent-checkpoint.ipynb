{
 "cells": [
  {
   "cell_type": "code",
   "execution_count": 1,
   "metadata": {},
   "outputs": [],
   "source": [
    "%run ~/dev/pydev/Jupyter/ml/settings.ipynb"
   ]
  },
  {
   "cell_type": "code",
   "execution_count": 222,
   "metadata": {},
   "outputs": [],
   "source": [
    "#Minimizing f = x**2 + y**2\n",
    "#Or Zero-order \n",
    "cost = lambda x, y: 2.*x + 2.*y\n",
    "f = lambda x, y : x**2 +y**2\n",
    "def coordinate_search(cost_function, initial_w, N_coordinates=1, maxmum_steps=10, step_length=1., diminishing=False):\n",
    "    w0 = initial_w\n",
    "    apply_cost = lambda w: cost_function(*[arg for arg in w])\n",
    "    cost = apply_cost(w0)\n",
    "    #\n",
    "    w_hist=[w0]\n",
    "    cost_hist=[cost]\n",
    "    for n in range(1, maxmum_steps+1):\n",
    "        if diminishing is True:\n",
    "            alpha = step_length/n\n",
    "        else :\n",
    "            alpha = step_length\n",
    "        diff = alpha*step_length\n",
    "        ws = [[w0[n] + diff, w0[n] - diff] for n in range(N_coordinates)]\n",
    "        candidates = np.array(np.meshgrid(*ws), dtype=float).T.reshape(-1, N_coordinates)\n",
    "        x = [candidates[:,n] for n in range(N_coordinates)]\n",
    "        min_direction_idx = np.argmin(np.abs(list(map(cost_function, *x))))\n",
    "        w0 = candidates[min_direction_idx]\n",
    "        #\n",
    "        w_hist.append(w0)\n",
    "        cost_hist.append(apply_cost(w0))\n",
    "        #\n",
    "    return w0,w_hist,cost_hist"
   ]
  },
  {
   "cell_type": "code",
   "execution_count": 247,
   "metadata": {},
   "outputs": [],
   "source": [
    "Nit=30\n",
    "w0, w_hist, cost_hist = coordinate_search(f, [5,2], 2, Nit, .5, False)"
   ]
  },
  {
   "cell_type": "code",
   "execution_count": 248,
   "metadata": {},
   "outputs": [
    {
     "data": {
      "text/plain": [
       "Text(0, 0.5, 'Cost')"
      ]
     },
     "execution_count": 248,
     "metadata": {},
     "output_type": "execute_result"
    },
    {
     "data": {
      "image/png": "[encoded data removed]",
      "text/plain": [
       "<Figure size 432x288 with 1 Axes>"
      ]
     },
     "metadata": {
      "needs_background": "dark"
     },
     "output_type": "display_data"
    }
   ],
   "source": [
    "plt.plot(list(np.arange(Nit+1)), cost_hist)\n",
    "plt.grid()\n",
    "# Legend the plot\n",
    "plt.title(\"Ordinate Search algorithm\", color='white')\n",
    "plt.xlabel(\"N iteration\")\n",
    "plt.ylabel(\"Cost\")"
   ]
  },
  {
   "cell_type": "code",
   "execution_count": 239,
   "metadata": {},
   "outputs": [
    {
     "data": {
      "text/plain": [
       "array([-0.12, -0.56])"
      ]
     },
     "execution_count": 239,
     "metadata": {},
     "output_type": "execute_result"
    }
   ],
   "source": [
    "w0"
   ]
  },
  {
   "cell_type": "code",
   "execution_count": 240,
   "metadata": {},
   "outputs": [],
   "source": [
    "#Iterate only one coordinate at one time \n",
    "def coordinate_descent(cost_function, initial_w, N_coordinates=1, maxmum_steps=10, step_length=1., diminishing=False):\n",
    "    w0 = initial_w\n",
    "    apply_cost = lambda w: cost_function(*[arg for arg in w])\n",
    "    cost = apply_cost(w0)\n",
    "    #\n",
    "    w_hist=[w0]\n",
    "    cost_hist=[cost]\n",
    "    for n in range(1, maxmum_steps+1):\n",
    "        if diminishing is True:\n",
    "            alpha = step_length/n\n",
    "        else :\n",
    "            alpha = step_length\n",
    "        diff = alpha*step_length\n",
    "        \n",
    "        for N in range(N_coordinates):\n",
    "            ws = [w0[N] + diff, w0[N] - diff]\n",
    "            candidates = []\n",
    "            for new_w in ws:\n",
    "                c = w0.copy()\n",
    "                c[N] = new_w\n",
    "                candidates.append(c)\n",
    "            candidates = np.array(candidates)\n",
    "            x = [candidates[:,n] for n in range(N_coordinates)]\n",
    "            min_direction_idx = np.argmin(np.abs(list(map(cost_function, *x))))\n",
    "            w0 = candidates[min_direction_idx]\n",
    "            #\n",
    "            w_hist.append(w0)\n",
    "            cost_hist.append(apply_cost(w0))\n",
    "            #\n",
    "            \n",
    "    return w0,w_hist,cost_hist"
   ]
  },
  {
   "cell_type": "code",
   "execution_count": 245,
   "metadata": {},
   "outputs": [],
   "source": [
    "Nit=30\n",
    "w0, w_hist, cost_hist = coordinate_descent(f, [5,2], 2, Nit, .5, False)"
   ]
  },
  {
   "cell_type": "code",
   "execution_count": 246,
   "metadata": {},
   "outputs": [
    {
     "data": {
      "text/plain": [
       "Text(0, 0.5, 'Cost')"
      ]
     },
     "execution_count": 246,
     "metadata": {},
     "output_type": "execute_result"
    },
    {
     "data": {
      "image/png": "[encoded data removed]",
      "text/plain": [
       "<Figure size 432x288 with 1 Axes>"
      ]
     },
     "metadata": {
      "needs_background": "dark"
     },
     "output_type": "display_data"
    }
   ],
   "source": [
    "plt.plot(list(np.arange(Nit*2+1)), cost_hist)\n",
    "plt.grid()\n",
    "# Legend the plot\n",
    "plt.title(\"Ordinate Search algorithm\", color='white')\n",
    "plt.xlabel(\"N iteration\")\n",
    "plt.ylabel(\"Cost\")"
   ]
  },
  {
   "cell_type": "code",
   "execution_count": null,
   "metadata": {},
   "outputs": [],
   "source": []
  }
 ],
 "metadata": {
  "kernelspec": {
   "display_name": "Python 3",
   "language": "python",
   "name": "python3"
  },
  "language_info": {
   "codemirror_mode": {
    "name": "ipython",
    "version": 3
   },
   "file_extension": ".py",
   "mimetype": "text/x-python",
   "name": "python",
   "nbconvert_exporter": "python",
   "pygments_lexer": "ipython3",
   "version": "3.5.6"
  }
 },
 "nbformat": 4,
 "nbformat_minor": 2
}
